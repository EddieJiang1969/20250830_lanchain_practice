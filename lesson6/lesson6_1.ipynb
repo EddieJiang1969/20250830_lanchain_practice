{
 "cells": [
  {
   "cell_type": "code",
   "execution_count": null,
   "id": "cad6cefd",
   "metadata": {},
   "outputs": [],
   "source": [
    "from langchain.prompts import ChatPromptTemplate\n",
    "from langchain.schema.output_parser import StrOutputParser\n",
    "from langchain_ollama.llms import OllamaLLM\n",
    "\n",
    "\n",
    "\n",
    "# 建立提示模板\n",
    "prompt = ChatPromptTemplate.from_template(\"請介紹 {topic}\")\n",
    "\n",
    "# 建立模型\n",
    "model = OllamaLLM(model=\"gemma3:1b\")\n",
    "output_parser = StrOutputParser()\n",
    "\n",
    "# 使用 LCEL 語法建立鏈\n",
    "chain = prompt | model | output_parser\n",
    "\n",
    "# 執行\n",
    "result = chain.invoke({\"topic\": \"人工智慧\"})\n",
    "print(result)\n",
    "\n"
   ]
  }
 ],
 "metadata": {
  "kernelspec": {
   "display_name": ".venv",
   "language": "python",
   "name": "python3"
  },
  "language_info": {
   "codemirror_mode": {
    "name": "ipython",
    "version": 3
   },
   "file_extension": ".py",
   "mimetype": "text/x-python",
   "name": "python",
   "nbconvert_exporter": "python",
   "pygments_lexer": "ipython3",
   "version": "3.10.18"
  }
 },
 "nbformat": 4,
 "nbformat_minor": 5
}
