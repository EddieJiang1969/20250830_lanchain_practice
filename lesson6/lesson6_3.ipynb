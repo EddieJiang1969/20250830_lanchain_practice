{
 "cells": [
  {
   "cell_type": "code",
   "execution_count": 15,
   "id": "f3ba8c10",
   "metadata": {},
   "outputs": [],
   "source": [
    "def upgrade_level1(name:str) -> str:\n",
    "    return f\"你好，{name}，歡迎來到LangChain的課程\"\n",
    "\n",
    "def upgrade_level2(name:str) -> str:\n",
    "    return f\"你好，{name}，歡迎來到LangChain的課程\"\n",
    "\n"
   ]
  },
  {
   "cell_type": "code",
   "execution_count": 16,
   "id": "b5309255",
   "metadata": {},
   "outputs": [
    {
     "name": "stdout",
     "output_type": "stream",
     "text": [
      "你好，你好，小明，歡迎來到LangChain的課程，歡迎來到LangChain的課程\n"
     ]
    }
   ],
   "source": [
    "total = upgrade_level2(upgrade_level1(\"小明\"))\n",
    "print(total)\n"
   ]
  },
  {
   "cell_type": "code",
   "execution_count": 23,
   "id": "53f17764",
   "metadata": {},
   "outputs": [
    {
     "name": "stdout",
     "output_type": "stream",
     "text": [
      "你好，你好，小明，歡迎來到LangChain的課程，歡迎來到LangChain的課程\n"
     ]
    }
   ],
   "source": [
    "from langchain.schema.runnable import RunnableLambda\n",
    "\n",
    "chain=(RunnableLambda(upgrade_level1) | RunnableLambda(upgrade_level2))\n",
    "result = chain.invoke(\"小明\")\n",
    "print(result)\n"
   ]
  }
 ],
 "metadata": {
  "kernelspec": {
   "display_name": ".venv",
   "language": "python",
   "name": "python3"
  },
  "language_info": {
   "codemirror_mode": {
    "name": "ipython",
    "version": 3
   },
   "file_extension": ".py",
   "mimetype": "text/x-python",
   "name": "python",
   "nbconvert_exporter": "python",
   "pygments_lexer": "ipython3",
   "version": "3.10.18"
  }
 },
 "nbformat": 4,
 "nbformat_minor": 5
}
