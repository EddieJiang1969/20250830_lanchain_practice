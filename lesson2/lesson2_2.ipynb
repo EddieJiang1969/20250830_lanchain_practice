{
  "cells": [
    {
      "cell_type": "markdown",
      "metadata": {},
      "source": [
        "# Python 條件判斷和迴圈 - 實作範例\n",
        "\n",
        "本 notebook 包含條件判斷和迴圈的各種實作範例，讓您可以直接執行和修改程式碼。\n"
      ]
    },
    {
      "cell_type": "markdown",
      "metadata": {},
      "source": [
        "## 1. 條件判斷 (if/elif/else)\n",
        "\n",
        "### 範例1：成績等級判斷\n"
      ]
    },
    {
      "cell_type": "code",
      "execution_count": null,
      "metadata": {},
      "outputs": [],
      "source": [
        "# 輸入學生成績\n",
        "score = 85\n",
        "\n",
        "if score >= 90:\n",
        "    grade = \"A\"\n",
        "    print(f\"成績：{score}分，等級：{grade} - 優秀！\")\n",
        "elif score >= 80:\n",
        "    grade = \"B\"\n",
        "    print(f\"成績：{score}分，等級：{grade} - 良好！\")\n",
        "elif score >= 70:\n",
        "    grade = \"C\"\n",
        "    print(f\"成績：{score}分，等級：{grade} - 普通\")\n",
        "elif score >= 60:\n",
        "    grade = \"D\"\n",
        "    print(f\"成績：{score}分，等級：{grade} - 及格\")\n",
        "else:\n",
        "    grade = \"F\"\n",
        "    print(f\"成績：{score}分，等級：{grade} - 不及格\")\n"
      ]
    },
    {
      "cell_type": "markdown",
      "metadata": {},
      "source": [
        "### 範例2：數字比較\n"
      ]
    },
    {
      "cell_type": "code",
      "execution_count": null,
      "metadata": {},
      "outputs": [],
      "source": [
        "# 比較兩個數字\n",
        "a = 10\n",
        "b = 20\n",
        "\n",
        "if a > b:\n",
        "    print(f\"{a} 大於 {b}\")\n",
        "elif a < b:\n",
        "    print(f\"{a} 小於 {b}\")\n",
        "else:\n",
        "    print(f\"{a} 等於 {b}\")\n"
      ]
    },
    {
      "cell_type": "markdown",
      "metadata": {},
      "source": [
        "### 範例3：奇偶數判斷\n"
      ]
    },
    {
      "cell_type": "code",
      "execution_count": null,
      "metadata": {},
      "outputs": [],
      "source": [
        "# 判斷數字是否為奇數或偶數\n",
        "number = 7\n",
        "\n",
        "if number % 2 == 0:\n",
        "    print(f\"{number} 是偶數\")\n",
        "else:\n",
        "    print(f\"{number} 是奇數\")\n"
      ]
    },
    {
      "cell_type": "markdown",
      "metadata": {},
      "source": [
        "## 2. for 迴圈\n",
        "\n",
        "### 範例1：數字序列\n"
      ]
    },
    {
      "cell_type": "code",
      "execution_count": null,
      "metadata": {},
      "outputs": [],
      "source": [
        "# 印出 1 到 5\n",
        "print(\"for 迴圈 - 印出 1 到 5：\")\n",
        "for i in range(1, 6):\n",
        "    print(f\"數字：{i}\")\n"
      ]
    },
    {
      "cell_type": "markdown",
      "metadata": {},
      "source": [
        "### 範例2：字串處理\n"
      ]
    },
    {
      "cell_type": "code",
      "execution_count": null,
      "metadata": {},
      "outputs": [],
      "source": [
        "# 印出字串中的每個字元\n",
        "word = \"Python\"\n",
        "print(f\"字串 '{word}' 的每個字元：\")\n",
        "for char in word:\n",
        "    print(f\"字元：{char}\")\n"
      ]
    },
    {
      "cell_type": "markdown",
      "metadata": {},
      "source": [
        "### 範例3：列表處理\n"
      ]
    },
    {
      "cell_type": "code",
      "execution_count": null,
      "metadata": {},
      "outputs": [],
      "source": [
        "# 處理水果列表\n",
        "fruits = [\"蘋果\", \"香蕉\", \"橘子\", \"葡萄\"]\n",
        "print(\"水果列表：\")\n",
        "for i, fruit in enumerate(fruits, 1):\n",
        "    print(f\"{i}. {fruit}\")\n"
      ]
    },
    {
      "cell_type": "markdown",
      "metadata": {},
      "source": [
        "## 3. while 迴圈\n",
        "\n",
        "### 範例1：計數器\n"
      ]
    },
    {
      "cell_type": "code",
      "execution_count": null,
      "metadata": {},
      "outputs": [],
      "source": [
        "# 使用 while 迴圈計數\n",
        "count = 1\n",
        "print(\"while 迴圈 - 計數到 5：\")\n",
        "while count <= 5:\n",
        "    print(f\"計數：{count}\")\n",
        "    count += 1  # 等同於 count = count + 1\n"
      ]
    },
    {
      "cell_type": "markdown",
      "metadata": {},
      "source": [
        "## 4. 迴圈控制 (break/continue)\n",
        "\n",
        "### break：跳出迴圈\n"
      ]
    },
    {
      "cell_type": "code",
      "execution_count": null,
      "metadata": {},
      "outputs": [],
      "source": [
        "# 找到第一個大於 10 的數字就停止\n",
        "numbers = [1, 5, 8, 12, 3, 15, 7]\n",
        "print(\"尋找第一個大於 10 的數字：\")\n",
        "\n",
        "for num in numbers:\n",
        "    print(f\"檢查數字：{num}\")\n",
        "    if num > 10:\n",
        "        print(f\"找到了！{num} 大於 10\")\n",
        "        break\n",
        "    print(\"繼續尋找...\")\n"
      ]
    },
    {
      "cell_type": "markdown",
      "metadata": {},
      "source": [
        "### continue：跳過本次迴圈\n"
      ]
    },
    {
      "cell_type": "code",
      "execution_count": null,
      "metadata": {},
      "outputs": [],
      "source": [
        "# 印出 1 到 10 中的奇數\n",
        "print(\"1 到 10 中的奇數：\")\n",
        "for i in range(1, 11):\n",
        "    if i % 2 == 0:  # 如果是偶數\n",
        "        continue    # 跳過本次迴圈\n",
        "    print(f\"奇數：{i}\")\n"
      ]
    },
    {
      "cell_type": "markdown",
      "metadata": {},
      "source": [
        "## 5. 巢狀結構\n",
        "\n",
        "### 巢狀迴圈 - 九九乘法表\n"
      ]
    },
    {
      "cell_type": "code",
      "execution_count": null,
      "metadata": {},
      "outputs": [],
      "source": [
        "# 九九乘法表\n",
        "print(\"九九乘法表：\")\n",
        "for i in range(1, 10):\n",
        "    for j in range(1, 10):\n",
        "        result = i * j\n",
        "        print(f\"{i} × {j} = {result}\", end=\"\\t\")\n",
        "    print()  # 換行\n"
      ]
    },
    {
      "cell_type": "markdown",
      "metadata": {},
      "source": [
        "## 6. 練習題\n",
        "\n",
        "### 練習1：數字求和\n"
      ]
    },
    {
      "cell_type": "code",
      "execution_count": null,
      "metadata": {},
      "outputs": [],
      "source": [
        "# 計算 1 到 100 的總和\n",
        "total = 0\n",
        "for i in range(1, 101):\n",
        "    total += i\n",
        "\n",
        "print(f\"1 到 100 的總和：{total}\")\n"
      ]
    },
    {
      "cell_type": "markdown",
      "metadata": {},
      "source": [
        "### 練習2：質數判斷\n"
      ]
    },
    {
      "cell_type": "code",
      "execution_count": null,
      "metadata": {},
      "outputs": [],
      "source": [
        "# 判斷一個數字是否為質數\n",
        "number = 17\n",
        "is_prime = True\n",
        "\n",
        "if number < 2:\n",
        "    is_prime = False\n",
        "else:\n",
        "    for i in range(2, number):\n",
        "        if number % i == 0:\n",
        "            is_prime = False\n",
        "            break\n",
        "\n",
        "if is_prime:\n",
        "    print(f\"{number} 是質數\")\n",
        "else:\n",
        "    print(f\"{number} 不是質數\")\n"
      ]
    },
    {
      "cell_type": "markdown",
      "metadata": {},
      "source": [
        "### 練習3：費波那契數列\n"
      ]
    },
    {
      "cell_type": "code",
      "execution_count": null,
      "metadata": {},
      "outputs": [],
      "source": [
        "# 產生費波那契數列的前 10 個數字\n",
        "n = 10\n",
        "fibonacci = []\n",
        "\n",
        "if n >= 1:\n",
        "    fibonacci.append(0)\n",
        "if n >= 2:\n",
        "    fibonacci.append(1)\n",
        "\n",
        "for i in range(2, n):\n",
        "    next_fib = fibonacci[i-1] + fibonacci[i-2]\n",
        "    fibonacci.append(next_fib)\n",
        "\n",
        "print(f\"費波那契數列前 {n} 個數字：\")\n",
        "for i, num in enumerate(fibonacci):\n",
        "    print(f\"F({i}) = {num}\")\n"
      ]
    },
    {
      "cell_type": "markdown",
      "metadata": {},
      "source": [
        "### 練習4：猜數字遊戲（互動式）\n",
        "\n",
        "**注意：這個範例需要使用者輸入，在 Jupyter notebook 中執行時會要求您輸入數字**\n"
      ]
    },
    {
      "cell_type": "code",
      "execution_count": null,
      "metadata": {},
      "outputs": [],
      "source": [
        "import random\n",
        "\n",
        "# 產生 1 到 100 的隨機數字\n",
        "secret_number = random.randint(1, 100)\n",
        "attempts = 0\n",
        "max_attempts = 7\n",
        "\n",
        "print(\"歡迎來到猜數字遊戲！\")\n",
        "print(\"我想到了一個 1 到 100 之間的數字\")\n",
        "print(f\"你有 {max_attempts} 次機會\")\n",
        "\n",
        "while attempts < max_attempts:\n",
        "    guess = int(input(\"請輸入你的猜測：\"))\n",
        "    attempts += 1\n",
        "    \n",
        "    if guess == secret_number:\n",
        "        print(f\"恭喜！你猜對了！答案是 {secret_number}\")\n",
        "        print(f\"你用了 {attempts} 次機會\")\n",
        "        break\n",
        "    elif guess < secret_number:\n",
        "        print(\"太小了！\")\n",
        "    else:\n",
        "        print(\"太大了！\")\n",
        "    \n",
        "    remaining = max_attempts - attempts\n",
        "    if remaining > 0:\n",
        "        print(f\"還有 {remaining} 次機會\")\n",
        "else:\n",
        "    print(f\"遊戲結束！答案是 {secret_number}\")\n"
      ]
    }
  ],
  "metadata": {
    "language_info": {
      "name": "python"
    }
  },
  "nbformat": 4,
  "nbformat_minor": 2
}
