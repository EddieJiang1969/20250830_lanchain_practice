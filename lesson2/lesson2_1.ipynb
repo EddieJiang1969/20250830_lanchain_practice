{
 "cells": [
  {
   "cell_type": "markdown",
   "id": "7c6d2692",
   "metadata": {},
   "source": [
    "python 數學運算\n",
    "#基本語法 \n"
   ]
  },
  {
   "cell_type": "code",
   "execution_count": 16,
   "id": "89b7d9a9",
   "metadata": {},
   "outputs": [
    {
     "name": "stdout",
     "output_type": "stream",
     "text": [
      "Eddie\n",
      "<class 'str'>\n",
      "============================\n",
      "50\n",
      "<class 'int'>\n",
      "============================\n",
      "178.5\n",
      "<class 'float'>\n",
      "============================\n",
      "<class 'bool'>\n"
     ]
    }
   ],
   "source": [
    "\n",
    "\n",
    "name=\"Sunny\"\n",
    "print(name) \n",
    "print(type(name))\n",
    "print('============================')\n",
    "\n",
    "\n",
    "age=50\n",
    "print(age)\n",
    "print(type(age))\n",
    "print('============================')\n",
    "\n",
    "hight=178.5\n",
    "print(hight)\n",
    "print(type(hight))\n",
    "print('============================')\n",
    "\n",
    "is_student=True\n",
    "print(type(is_student))\n"
   ]
  },
  {
   "cell_type": "code",
   "execution_count": null,
   "id": "a9c06e5b",
   "metadata": {},
   "outputs": [],
   "source": [
    "a=7\n",
    "b=3\n"
   ]
  },
  {
   "cell_type": "code",
   "execution_count": null,
   "id": "97ba4524",
   "metadata": {},
   "outputs": [],
   "source": [
    "# 數學運算 - 只輸出加法\n",
    "a = 7\n",
    "b = 3\n",
    "\n",
    "# 加法運算\n",
    "r1 = a + b\n",
    "print(\"加法\", r1)\n"
   ]
  },
  {
   "cell_type": "code",
   "execution_count": 27,
   "id": "04009f2b",
   "metadata": {},
   "outputs": [
    {
     "name": "stdout",
     "output_type": "stream",
     "text": [
      "斜邊 5.0\n"
     ]
    }
   ],
   "source": [
    "#有一個直角三角形,已知底邊和高,求斜邊\n",
    "import math\n",
    "\n",
    "side1=3\n",
    "side2=4\n",
    "\n",
    "# 計算斜邊\n",
    "hypotenuse = math.sqrt(side1**2 + side2**2) \n",
    "print(\"斜邊\",hypotenuse)\n",
    "\n",
    "\n"
   ]
  },
  {
   "cell_type": "code",
   "execution_count": null,
   "id": "143e59c1",
   "metadata": {},
   "outputs": [
    {
     "name": "stdout",
     "output_type": "stream",
     "text": [
      "斜邊 6.4031242374328485\n"
     ]
    }
   ],
   "source": [
    "import math\n",
    "\n",
    "\n",
    "adjacent_side=5\n",
    "opposite_side=4\n",
    "\n",
    "#使用畢式定理計算斜邊\n",
    "hypotenuse = math.sqrt(adjacent_side** 2 + opposite_side**2)\n",
    "print(\"斜邊\",hypotenuse)\n",
    "\n"
   ]
  },
  {
   "cell_type": "code",
   "execution_count": 36,
   "id": "05c63056",
   "metadata": {},
   "outputs": [
    {
     "name": "stdout",
     "output_type": "stream",
     "text": [
      "Eddie\n",
      "is a nice man\n"
     ]
    }
   ],
   "source": [
    "is_nice:bool=False\n",
    "\n",
    "print(\"Eddie\")\n",
    "if is_nice:\n",
    "    print(\"is a good man\")\n",
    "else:\n",
    "    print(\"is a nice man\")\n",
    "    "
   ]
  }
 ],
 "metadata": {
  "kernelspec": {
   "display_name": "langchain",
   "language": "python",
   "name": "python3"
  },
  "language_info": {
   "codemirror_mode": {
    "name": "ipython",
    "version": 3
   },
   "file_extension": ".py",
   "mimetype": "text/x-python",
   "name": "python",
   "nbconvert_exporter": "python",
   "pygments_lexer": "ipython3",
   "version": "3.11.13"
  }
 },
 "nbformat": 4,
 "nbformat_minor": 5
}
