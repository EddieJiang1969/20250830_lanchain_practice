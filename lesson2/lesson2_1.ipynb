{
 "cells": [
  {
   "cell_type": "markdown",
   "id": "7c6d2692",
   "metadata": {},
   "source": [
    "python 數學運算\n",
    "#基本語法 \n"
   ]
  },
  {
   "cell_type": "code",
   "execution_count": 16,
   "id": "89b7d9a9",
   "metadata": {},
   "outputs": [
    {
     "name": "stdout",
     "output_type": "stream",
     "text": [
      "Eddie\n",
      "<class 'str'>\n",
      "============================\n",
      "50\n",
      "<class 'int'>\n",
      "============================\n",
      "178.5\n",
      "<class 'float'>\n",
      "============================\n",
      "<class 'bool'>\n"
     ]
    }
   ],
   "source": [
    "\n",
    "\n",
    "name=\"Sunny\"\n",
    "print(name) \n",
    "print(type(name))\n",
    "print('============================')\n",
    "\n",
    "\n",
    "age=50\n",
    "print(age)\n",
    "print(type(age))\n",
    "print('============================')\n",
    "\n",
    "hight=178.5\n",
    "print(hight)\n",
    "print(type(hight))\n",
    "print('============================')\n",
    "\n",
    "is_student=True\n",
    "print(type(is_student))\n"
   ]
  },
  {
   "cell_type": "code",
   "execution_count": null,
   "id": "a9c06e5b",
   "metadata": {},
   "outputs": [],
   "source": [
    "a=7\n",
    "b=3\n"
   ]
  },
  {
   "cell_type": "code",
   "execution_count": null,
   "id": "97ba4524",
   "metadata": {},
   "outputs": [],
   "source": [
    "# 數學運算 - 只輸出加法\n",
    "a = 7\n",
    "b = 3\n",
    "\n",
    "# 加法運算\n",
    "r1 = a + b\n",
    "print(\"加法\", r1)\n"
   ]
  },
  {
   "cell_type": "code",
   "execution_count": 27,
   "id": "04009f2b",
   "metadata": {},
   "outputs": [
    {
     "name": "stdout",
     "output_type": "stream",
     "text": [
      "斜邊 5.0\n"
     ]
    }
   ],
   "source": [
    "#有一個直角三角形,已知底邊和高,求斜邊\n",
    "import math\n",
    "\n",
    "side1=3\n",
    "side2=4\n",
    "\n",
    "# 計算斜邊\n",
    "hypotenuse = math.sqrt(side1**2 + side2**2) \n",
    "print(\"斜邊\",hypotenuse)\n",
    "\n",
    "\n"
   ]
  },
  {
   "cell_type": "code",
   "execution_count": null,
   "id": "143e59c1",
   "metadata": {},
   "outputs": [
    {
     "name": "stdout",
     "output_type": "stream",
     "text": [
      "斜邊 6.4031242374328485\n"
     ]
    }
   ],
   "source": [
    "import math\n",
    "\n",
    "\n",
    "adjacent_side=5\n",
    "opposite_side=4\n",
    "\n",
    "#使用畢式定理計算斜邊\n",
    "hypotenuse = math.sqrt(adjacent_side** 2 + opposite_side**2)\n",
    "print(\"斜邊\",hypotenuse)\n",
    "\n"
   ]
  },
  {
   "cell_type": "code",
   "execution_count": 36,
   "id": "05c63056",
   "metadata": {},
   "outputs": [
    {
     "name": "stdout",
     "output_type": "stream",
     "text": [
      "Eddie\n",
      "is a nice man\n"
     ]
    }
   ],
   "source": [
    "is_nice:bool=False\n",
    "\n",
    "print(\"Eddie\")\n",
    "if is_nice:\n",
    "    print(\"is a good man\")\n",
    "else:\n",
    "    print(\"is a nice man\")\n",
    "    "
   ]
  },
  {
   "cell_type": "code",
   "execution_count": 39,
   "id": "ea1b4ab9",
   "metadata": {},
   "outputs": [
    {
     "name": "stdout",
     "output_type": "stream",
     "text": [
      "尚須努力\n"
     ]
    }
   ],
   "source": [
    "#\n",
    "score=69\n",
    "\n",
    "if score>=90:\n",
    "    print(\"優秀\")\n",
    "elif score>=80:\n",
    "    print(\"良好\")\n",
    "elif score>=70:\n",
    "    print(\"中等\")\n",
    "else:\n",
    "    print(\"尚須努力\")"
   ]
  },
  {
   "cell_type": "code",
   "execution_count": 48,
   "id": "e8704444",
   "metadata": {},
   "outputs": [
    {
     "name": "stdout",
     "output_type": "stream",
     "text": [
      "[1, 4, 9, 16, 25, 36, 49, 64, 81]\n"
     ]
    }
   ],
   "source": [
    "from os import error\n",
    "\n",
    "\n",
    "a=[]\n",
    "try:\n",
    "    for i in range(1,10):\n",
    "        a.append(i*i)\n",
    "    print(a)\n",
    "except Exception as e:\n",
    "    print(e)"
   ]
  },
  {
   "cell_type": "code",
   "execution_count": 53,
   "id": "88cec4a4",
   "metadata": {},
   "outputs": [
    {
     "name": "stdout",
     "output_type": "stream",
     "text": [
      "Eddie\n",
      "Sunny\n"
     ]
    }
   ],
   "source": [
    "class human():\n",
    "    def __init__(self):\n",
    "        self.eye = 2\n",
    "        self.ear = 2\n",
    "        self.nose = 1\n",
    "        self.mouth = 1\n",
    "        self.name=\"\"\n",
    "    def say(self, msg):\n",
    "        print(msg)\n",
    "    def play(self, thing):\n",
    "        print(thing)\n",
    "\n",
    "human.hand = 2    # 定義 hand 屬性\n",
    "human.leg = 2     # 定義 leg 屬性\n",
    "\n",
    "oxxo = human()\n",
    "gkpen=human()\n",
    "\n",
    "oxxo.name=\"Eddie\"\n",
    "gkpen.name=\"Sunny\"\n",
    "\n",
    "print(oxxo.name)  # 2\n",
    "print(gkpen.name)\n",
    "\n",
    "##print(oxxo.leg)   # 2\n",
    "\n"
   ]
  },
  {
   "cell_type": "code",
   "execution_count": 82,
   "id": "a89c6ba0",
   "metadata": {},
   "outputs": [
    {
     "name": "stdout",
     "output_type": "stream",
     "text": [
      "15\n",
      "16\n",
      "17\n",
      "18\n",
      "19\n",
      "20\n",
      "21\n",
      "22\n",
      "23\n",
      "24\n"
     ]
    },
    {
     "data": {
      "text/plain": [
       "24"
      ]
     },
     "execution_count": 82,
     "metadata": {},
     "output_type": "execute_result"
    }
   ],
   "source": [
    "\n",
    "for a in range(10,20):\n",
    "  a+=5\n",
    "  print(a)\n",
    "a"
   ]
  },
  {
   "cell_type": "code",
   "execution_count": 83,
   "id": "e91d800d",
   "metadata": {},
   "outputs": [
    {
     "name": "stdout",
     "output_type": "stream",
     "text": [
      "3\n"
     ]
    }
   ],
   "source": [
    "def hello(x,y):\n",
    "    z=x+y\n",
    "    print(z)\n",
    "\n",
    "\n",
    "hello(1,2)\n"
   ]
  },
  {
   "cell_type": "code",
   "execution_count": 88,
   "id": "926d9f83",
   "metadata": {},
   "outputs": [
    {
     "name": "stdout",
     "output_type": "stream",
     "text": [
      "<title>台灣水庫即時水情</title>\n"
     ]
    }
   ],
   "source": [
    "import requests\n",
    "from bs4 import BeautifulSoup\n",
    "\n",
    "url = 'https://water.taiwanstat.com/'\n",
    "web = requests.get(url)                        # 取得網頁內容\n",
    "soup = BeautifulSoup(web.text, \"html.parser\")  # 轉換成標籤樹\n",
    "title = soup.title                             # 取得 title\n",
    "print(title)                                   # 印出 title ( 台灣水庫即時水情 )"
   ]
  },
  {
   "cell_type": "code",
   "execution_count": 5,
   "id": "c7abcf87",
   "metadata": {},
   "outputs": [
    {
     "name": "stdout",
     "output_type": "stream",
     "text": [
      "6\n",
      "請再猜一次\n",
      "請再猜一次\n",
      "請再猜一次\n",
      "請再猜一次\n",
      "請再猜一次\n",
      "你猜對了\n"
     ]
    }
   ],
   "source": [
    "import random\n",
    "\n",
    "secret_number=random.randint(1,10)\n",
    "\n",
    "print(secret_number)\n",
    "\n",
    "\n",
    "while True:\n",
    "    guess=int(input(\"請猜一個數字:\"))\n",
    "    if guess==secret_number:\n",
    "        print(\"你猜對了\")\n",
    "        break\n",
    "    else:\n",
    "        print(\"請再猜一次\")"
   ]
  },
  {
   "cell_type": "code",
   "execution_count": 10,
   "id": "625cf30c",
   "metadata": {},
   "outputs": [
    {
     "name": "stdout",
     "output_type": "stream",
     "text": [
      "   *  \n",
      "  *** \n",
      " ***** \n",
      "*******\n"
     ]
    }
   ],
   "source": [
    "def print_chrismas_tree():\n",
    "    print(\"   *  \")\n",
    "    print(\"  *** \")\n",
    "    print(\" ***** \")\n",
    "    print(\"*******\")\n",
    "\n",
    "print_chrismas_tree()"
   ]
  },
  {
   "cell_type": "code",
   "execution_count": 15,
   "id": "ca7cf4ea",
   "metadata": {},
   "outputs": [
    {
     "name": "stdout",
     "output_type": "stream",
     "text": [
      "園面積=314.16\n",
      "園周長=62.83\n"
     ]
    }
   ],
   "source": [
    "#計算圓周率\n",
    "import math\n",
    "def calculate_circle(radius):\n",
    "    area=math.pi*radius**2\n",
    "    circumference=2*math.pi*radius\n",
    "    return(area,circumference)\n",
    "\n",
    "\n",
    "radius=float(input(\"請輸入半徑:\"))\n",
    "area,circumference=calculate_circle(radius)\n",
    "print(f\"園面積={area:.2f}\" )\n",
    "print(f\"園周長={circumference:.2f}\" )\n"
   ]
  }
 ],
 "metadata": {
  "kernelspec": {
   "display_name": "langchain",
   "language": "python",
   "name": "python3"
  },
  "language_info": {
   "codemirror_mode": {
    "name": "ipython",
    "version": 3
   },
   "file_extension": ".py",
   "mimetype": "text/x-python",
   "name": "python",
   "nbconvert_exporter": "python",
   "pygments_lexer": "ipython3",
   "version": "3.11.13"
  }
 },
 "nbformat": 4,
 "nbformat_minor": 5
}
