{
 "cells": [
  {
   "cell_type": "markdown",
   "id": "7c6d2692",
   "metadata": {},
   "source": [
    "python 數學運算\n",
    "#基本語法 \n"
   ]
  },
  {
   "cell_type": "code",
   "execution_count": 16,
   "id": "89b7d9a9",
   "metadata": {},
   "outputs": [
    {
     "name": "stdout",
     "output_type": "stream",
     "text": [
      "Eddie\n",
      "<class 'str'>\n",
      "============================\n",
      "50\n",
      "<class 'int'>\n",
      "============================\n",
      "178.5\n",
      "<class 'float'>\n",
      "============================\n",
      "<class 'bool'>\n"
     ]
    }
   ],
   "source": [
    "\n",
    "\n",
    "name=\"Eddie\"\n",
    "print(name) \n",
    "print(type(name))\n",
    "print('============================')\n",
    "\n",
    "\n",
    "age=50\n",
    "print(age)\n",
    "print(type(age))\n",
    "print('============================')\n",
    "\n",
    "hight=178.5\n",
    "print(hight)\n",
    "print(type(hight))\n",
    "print('============================')\n",
    "\n",
    "is_student=True\n",
    "print(type(is_student))\n"
   ]
  }
 ],
 "metadata": {
  "kernelspec": {
   "display_name": "langchain",
   "language": "python",
   "name": "python3"
  },
  "language_info": {
   "codemirror_mode": {
    "name": "ipython",
    "version": 3
   },
   "file_extension": ".py",
   "mimetype": "text/x-python",
   "name": "python",
   "nbconvert_exporter": "python",
   "pygments_lexer": "ipython3",
   "version": "3.11.13"
  }
 },
 "nbformat": 4,
 "nbformat_minor": 5
}
