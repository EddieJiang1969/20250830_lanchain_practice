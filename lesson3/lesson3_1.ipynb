{
 "cells": [
  {
   "cell_type": "markdown",
   "id": "0273dbc0",
   "metadata": {},
   "source": [
    "#使用python的內建的標準函式庫建立範例"
   ]
  },
  {
   "cell_type": "code",
   "execution_count": 1,
   "id": "414ee381",
   "metadata": {},
   "outputs": [
    {
     "name": "stdout",
     "output_type": "stream",
     "text": [
      "現在的日期與時間是: 2025-09-20 09:09:02\n",
      "隨機產生的整數: 92\n",
      "目前的工作目錄是: c:\\Personal\\GitHub\\20250830_lanchain_practice\\.cursor\\rules\\lesson3\n"
     ]
    }
   ],
   "source": [
    "# 這裡我們將示範如何使用 Python 內建的標準函式庫 `datetime`、`random` 以及 `os`。\n",
    "\n",
    "import datetime\n",
    "import random\n",
    "import os\n",
    "\n",
    "\n",
    "# 使用 datetime 取得現在的日期與時間\n",
    "now = datetime.datetime.now()\n",
    "print(\"現在的日期與時間是:\", now.strftime(\"%Y-%m-%d %H:%M:%S\"))\n",
    "\n",
    "# 使用 random 產生一個 1 到 100 之間的隨機整數\n",
    "rand_num = random.randint(1, 100)\n",
    "print(\"隨機產生的整數:\", rand_num)\n",
    "\n",
    "# 使用 os 取得目前的工作目錄\n",
    "current_dir = os.getcwd()\n",
    "print(\"目前的工作目錄是:\", current_dir)\n",
    "\n"
   ]
  },
  {
   "cell_type": "markdown",
   "id": "9169cbda",
   "metadata": {},
   "source": [
    "#利用python的外部套件requests,說明外部套件的安裝與使用\n",
    "在使用'requests'套件前,請先確定已經安裝,可以在終端機\n"
   ]
  },
  {
   "cell_type": "code",
   "execution_count": 7,
   "id": "e06587db",
   "metadata": {},
   "outputs": [
    {
     "name": "stdout",
     "output_type": "stream",
     "text": [
      "200\n",
      "<!doctype html><html itemscope=\"\" itemtype=\"http://schema.org/WebPage\" lang=\"zh-TW\"><head><meta content=\"text/html; charset=UTF-8\" http-equiv=\"Content-Type\"><meta content=\"/images/branding/googleg/1x/googleg_standard_color_128dp.png\" itemprop=\"image\"><title>Google</title><script nonce=\"sl3Sn7ehYscYJeASPPYHXg\">(function(){var _g={kEI:'BOPEaK2EDrT31e8P5JCH2Ao',kEXPI:'0,56906,2,145946,2,3947056,90133,14111,34680,36536,354387,226411,44065,19568,5242138,105,95,94,32768182,4043710,25228681,138268,14126,4547,60608,6754,23878,7034,2105,4600,328,6225,1116,53073,9976,15049,8221,7413,30376,28339,48235,664,5308,352,4100,6600,8180,13584,5774,1202,17658,8751,16524,6251,35,3420,2117,11367,2440,9667,5683,3604,591,493,12692,2,2231,1763,3350,14649,1281,15305,567,4806,1215,1,9635,1032,6096,2816,2,7265,2747,2,4,1,320,841,2,3268,992,667,91,12926,355,3090,590,10587,438,39,1461,2489,1280,590,4,1378,32,104,3044,311,1057,2839,560,230,1324,2,771,4,572,5,682,128,3837,17,236,953,653,10,816,1759,605,1931,1738,994,211,2507,1,1876,2,876,22,2207,3916,578,468,127,19,3007,30,757,9,27,2191,1129,316,409,596,1079,3405,629,242,343,2172,260,99,1729,716,1738,1938,512,24,729,11,507,688,82,20,3,1418,242,2392,3,1281,2,860,615,7,1139,539,24,72,3566,199,661,506,667,40,248,548,223,1,2,4,1,992,4,4,68,540,1638,1367,493,616,29,3,2,2,2,2236,2,215,231,15,1124,484,242,377,134,306,1091,200,9,27,8,1302,525,506,9,1,1,3,23,685,1012,118,2,611,144,870,4,97,251,475,339,8,2,827,366,1264,555,386,66,335,670,2455,1235,35,267,24,92,1111,394,60,63,44,522,151,19,1702,11,570,191,2,433,236,3,3,1382,498,2,9,1,129,867,55,12,1,11,1,497,1,251,112,693,1051,327,60,309,171,222,1515,186,134,704,373,248,36,170,283,480,726,178,6,9,475,493,135,285,2135,1,2,20727180,416077,5,2992,4,2433,268,259,3,8491,2,1558,3,999,1447,3,8635,12,151,1033,2635,10,482,3,1464,483,22,6038578,11629,2620970,1464697',kBL:'ww5S',kOPI:89978449};(function(){var a;((a=window.google)==null?0:a.stvsc)?google.kEI=_g.kEI:window.google=_g;}).call(this);})();(function(){google.sn='webhp';google.kHL='zh-TW';})();(function(){\n",
      "var g=this||self;function k(){return window.google&&window.google.kOPI||null};var l,m=[];function n(a){for(var b;a&&(!a.getAttribute||!(b=a.getAttribute(\"eid\")));)a=a.parentNode;return b||l}function p(a){for(var b=null;a&&(!a.getAttribute||!(b=a.getAttribute(\"leid\")));)a=a.parentNode;return b}function q(a){/^http:/i.test(a)&&window.location.protocol===\"https:\"&&(google.ml&&google.ml(Error(\"a\"),!1,{src:a,glmm:1}),a=\"\");return a}\n",
      "function r(a,b,d,c,h){var e=\"\";b.search(\"&ei=\")===-1&&(e=\"&ei=\"+n(c),b.search(\"&lei=\")===-1&&(c=p(c))&&(e+=\"&lei=\"+c));var f=b.search(\"&cshid=\")===-1&&a!==\"slh\";c=\"&zx=\"+Date.now().toString();g._cshid&&f&&(c+=\"&cshid=\"+g._cshid);(d=d())&&(c+=\"&opi=\"+d);return\"/\"+(h||\"gen_204\")+\"?atyp=i&ct=\"+String(a)+\"&cad=\"+(b+e+c)};l=google.kEI;google.getEI=n;google.getLEI=p;google.ml=function(){return null};google.log=function(a,b,d,c,h,e){e=e===void 0?k:e;d||(d=r(a,b,e,c,h));if(d=q(d)){a=new Image;var f=m.length;m[f]=a;a.onerror=a.onload=a.onabort=function(){delete m[f]};a.src=d}};google.logUrl=function(a,b){b=b===void 0?k:b;return r(\"\",a,b)};}).call(this);(function(){google.y={};google.sy={};function e(a,b,c){if(a)var d=a.id;else{do d=Math.random();while(c[d])}c[d]=[a,b]}var f;(f=google).x||(f.x=function(a,b){e(a,b,google.y)});var g;(g=google).sx||(g.sx=function(a,b){e(a,b,google.sy)});google.lm=[];var h;(h=google).plm||(h.plm=function(a){google.lm.push.apply(google.lm,a)});google.lq=[];var k;(k=google).load||(k.load=function(a,b,c){google.lq.push([[a],b,c])});var l;(l=google).loadAll||(l.loadAll=function(a,b){google.lq.push([a,b])});google.bx=!1;var m;(m=google).lx||(m.lx=function(){});var n=[],p;(p=google).fce||(p.fce=function(a,b,c,d){n.push([a,b,c,d])});google.qce=n;google.adl=[];}).call(this);google.f={};(function(){\n",
      "document.documentElement.addEventListener(\"submit\",function(b){var a;if(a=b.target){var c=a.getAttribute(\"data-submitfalse\");a=c===\"1\"||c===\"q\"&&!a.elements.q.value?!0:!1}else a=!1;a&&(b.preventDefault(),b.stopPropagation())},!0);document.documentElement.addEventListener(\"click\",function(b){var a;a:{for(a=b.target;a&&a!==document.documentElement;a=a.parentElement)if(a.tagName===\"A\"){a=a.getAttribute(\"data-nohref\")===\"1\";break a}a=!1}a&&b.preventDefault()},!0);}).call(this);</script><style>#gbar,#guser{font-size:13px;padding-top:1px !important;}#gbar{height:22px}#guser{padding-bottom:7px !important;text-align:right}.gbh,.gbd{border-top:1px solid #c9d7f1;font-size:1px}.gbh{height:0;position:absolute;top:24px;width:100%}@media all{.gb1{height:22px;margin-right:.5em;vertical-align:top}#gbar{float:left}}a.gb1,a.gb4{text-decoration:underline !important}a.gb1,a.gb4{color:#00c !important}.gbi .gb4{color:#dd8e27 !important}.gbf .gb4{color:#900 !important}\n",
      "</style><style>body,td,a,p,.h{font-family:sans-serif}body{margin:0;overflow-y:scroll}#gog{padding:3px 8px 0}td{line-height:.8em}.gac_m td{line-height:17px}form{margin-bottom:20px}.h{color:#1967d2}em{color:#c5221f;font-style:normal;font-weight:normal}a em{text-decoration:underline}.lst{height:25px;width:496px}.gsfi,.lst{font:18px sans-serif}.gsfs{font:17px sans-serif}.ds{display:inline-box;display:inline-block;margin:3px 0 4px;margin-left:4px}input{font-family:inherit}body{background:#fff;color:#1f1f1f}a{color:#681da8;text-decoration:none}a:hover,a:active{text-decoration:underline}.fl a{color:#1967d2}a:visited{color:#681da8}.sblc{padding-top:5px}.sblc a{display:block;margin:2px 0;margin-left:13px;font-size:11px}.lsbb{background:#ecedee;border:solid 1px;border-color:#dadce0 #70757a #70757a #dadce0;height:30px}.lsbb{display:block}#WqQANb a{display:inline-block;margin:0 12px}.lsb{background:url(/images/nav_logo229.png) 0 -261px repeat-x;color:#1f1f1f;border:none;cursor:pointer;height:30px;margin:0;outline:0;font:15px sans-serif;vertical-align:top}.lsb:active{background:#dadce0}.lst:focus{outline:none}</style><script nonce=\"sl3Sn7ehYscYJeASPPYHXg\">(function(){window.google.erd={jsr:1,bv:2287,de:true,dpf:'zZ7gDi6oJcVd7bpjxoOpFp8kqnJkSpgkiyiS_4w-K0A'};\n",
      "var g=this||self;var k,l=(k=g.mei)!=null?k:1,m,p=(m=g.diel)!=null?m:0,q,r=(q=g.sdo)!=null?q:!0,t=0,u,w=google.erd,x=w.jsr;google.ml=function(a,b,d,n,e){e=e===void 0?2:e;b&&(u=a&&a.message);d===void 0&&(d={});d.cad=\"ple_\"+google.ple+\".aple_\"+google.aple;if(google.dl)return google.dl(a,e,d,!0),null;b=d;if(x<0){window.console&&console.error(a,b);if(x===-2)throw a;b=!1}else b=!a||!a.message||a.message===\"Error loading script\"||t>=l&&!n?!1:!0;if(!b)return null;t++;d=d||{};b=encodeURIComponent;var c=\"/gen_204?atyp=i&ei=\"+b(google.kEI);google.kEXPI&&(c+=\"&jexpid=\"+b(google.kEXPI));c+=\"&srcpg=\"+b(google.sn)+\"&jsr=\"+b(w.jsr)+\n",
      "\"&bver=\"+b(w.bv);w.dpf&&(c+=\"&dpf=\"+b(w.dpf));var f=a.lineNumber;f!==void 0&&(c+=\"&line=\"+f);var h=a.fileName;h&&(h.indexOf(\"-extension:/\")>0&&(e=3),c+=\"&script=\"+b(h),f&&h===window.location.href&&(f=document.documentElement.outerHTML.split(\"\\n\")[f],c+=\"&cad=\"+b(f?f.substring(0,300):\"No script found.\")));google.ple&&google.ple===1&&(e=2);c+=\"&jsel=\"+e;for(var v in d)c+=\"&\",c+=b(v),c+=\"=\",c+=b(d[v]);c=c+\"&emsg=\"+b(a.name+\": \"+a.message);c=c+\"&jsst=\"+b(a.stack||\"N/A\");c.length>=12288&&(c=c.substring(0,12288));a=c;n||google.log(0,\"\",a);return a};window.onerror=function(a,b,d,n,e){u!==a&&(a=e instanceof Error?e:Error(a),d===void 0||\"lineNumber\"in a||(a.lineNumber=d),b===void 0||\"fileName\"in a||(a.fileName=b),google.ml(a,!1,void 0,!1,a.name===\"SyntaxError\"||a.message.substring(0,11)===\"SyntaxError\"||a.message.indexOf(\"Script error\")!==-1?3:p));u=null;r&&t>=l&&(window.onerror=null)};})();</script></head><body bgcolor=\"#fff\"><script nonce=\"sl3Sn7ehYscYJeASPPYHXg\">(function(){var src='/images/nav_logo229.png';var iesg=false;document.body.onload = function(){window.n && window.n();if (document.images){new Image().src=src;}\n",
      "if (!iesg){document.f&&document.f.q.focus();document.gbqf&&document.gbqf.q.focus();}\n",
      "}\n",
      "})();</script><div id=\"mngb\"><div id=gbar><nobr><b class=gb1>&#25628;&#23563;</b> <a class=gb1 href=\"https://www.google.com/imghp?hl=zh-TW&tab=wi\">&#22294;&#29255;</a> <a class=gb1 href=\"https://maps.google.com.tw/maps?hl=zh-TW&tab=wl\">&#22320;&#22294;</a> <a class=gb1 href=\"https://play.google.com/?hl=zh-TW&tab=w8\">Play</a> <a class=gb1 href=\"https://www.youtube.com/?tab=w1\">YouTube</a> <a class=gb1 href=\"https://news.google.com/?tab=wn\">&#26032;&#32862;</a> <a class=gb1 href=\"https://mail.google.com/mail/?tab=wm\">Gmail</a> <a class=gb1 href=\"https://drive.google.com/?tab=wo\">&#38642;&#31471;&#30828;&#30879;</a> <a class=gb1 style=\"text-decoration:none\" href=\"https://www.google.com.tw/intl/zh-TW/about/products?tab=wh\"><u>&#26356;&#22810;</u> &raquo;</a></nobr></div><div id=guser width=100%><nobr><span id=gbn class=gbi></span><span id=gbf class=gbf></span><span id=gbe></span><a href=\"http://www.google.com.tw/history/optout?hl=zh-TW\" class=gb4>&#32178;&#38913;&#35352;&#37636;</a> | <a  href=\"/preferences?hl=zh-TW\" class=gb4>&#35373;&#23450;</a> | <a target=_top id=gb_70 href=\"https://accounts.google.com/ServiceLogin?hl=zh-TW&passive=true&continue=https://www.google.com/&ec=GAZAAQ\" class=gb4>&#30331;&#20837;</a></nobr></div><div class=gbh style=left:0></div><div class=gbh style=right:0></div></div><center><br clear=\"all\" id=\"lgpd\"><div id=\"XjhHGf\"><img alt=\"Google\" height=\"92\" src=\"/images/branding/googlelogo/1x/googlelogo_white_background_color_272x92dp.png\" style=\"padding:28px 0 14px\" width=\"272\" id=\"hplogo\"><br><br></div><form action=\"/search\" name=\"f\"><table cellpadding=\"0\" cellspacing=\"0\"><tr valign=\"top\"><td width=\"25%\">&nbsp;</td><td align=\"center\" nowrap=\"\"><input name=\"ie\" value=\"ISO-8859-1\" type=\"hidden\"><input value=\"zh-TW\" name=\"hl\" type=\"hidden\"><input name=\"source\" type=\"hidden\" value=\"hp\"><input name=\"biw\" type=\"hidden\"><input name=\"bih\" type=\"hidden\"><div class=\"ds\" style=\"height:32px;margin:4px 0\"><input class=\"lst\" style=\"margin:0;padding:5px 8px 0 6px;vertical-align:top;color:#1f1f1f\" autocomplete=\"off\" value=\"\" title=\"Google &#25628;&#23563;\" maxlength=\"2048\" name=\"q\" size=\"57\"></div><br style=\"line-height:0\"><span class=\"ds\"><span class=\"lsbb\"><input class=\"lsb\" value=\"Google &#25628;&#23563;\" name=\"btnG\" type=\"submit\"></span></span><span class=\"ds\"><span class=\"lsbb\"><input class=\"lsb\" id=\"tsuid_BOPEaK2EDrT31e8P5JCH2Ao_1\" value=\"&#22909;&#25163;&#27683;\" name=\"btnI\" type=\"submit\"><script nonce=\"sl3Sn7ehYscYJeASPPYHXg\">(function(){var id='tsuid_BOPEaK2EDrT31e8P5JCH2Ao_1';document.getElementById(id).onclick = function(){if (this.form.q.value){this.checked = 1;if (this.form.iflsig)this.form.iflsig.disabled = false;}\n",
      "else top.location='/doodles/';};})();</script><input value=\"AOw8s4IAAAAAaMTxFCbBAdCQn1TGkjuGdmgTc3P8Y0IQ\" name=\"iflsig\" type=\"hidden\"></span></span></td><td class=\"fl sblc\" align=\"left\" nowrap=\"\" width=\"25%\"><a href=\"/advanced_search?hl=zh-TW&amp;authuser=0\">&#36914;&#38542;&#25628;&#23563;</a></td></tr></table><input id=\"gbv\" name=\"gbv\" type=\"hidden\" value=\"1\"><script nonce=\"sl3Sn7ehYscYJeASPPYHXg\">(function(){var a,b=\"1\";if(document&&document.getElementById)if(typeof XMLHttpRequest!=\"undefined\")b=\"2\";else if(typeof ActiveXObject!=\"undefined\"){var c,d,e=[\"MSXML2.XMLHTTP.6.0\",\"MSXML2.XMLHTTP.3.0\",\"MSXML2.XMLHTTP\",\"Microsoft.XMLHTTP\"];for(c=0;d=e[c++];)try{new ActiveXObject(d),b=\"2\"}catch(h){}}a=b;if(a==\"2\"&&location.search.indexOf(\"&gbv=2\")==-1){var f=google.gbvu,g=document.getElementById(\"gbv\");g&&(g.value=a);f&&window.setTimeout(function(){location.href=f},0)};}).call(this);</script></form><div style=\"font-size:83%;min-height:3.5em\"><br></div><span id=\"footer\"><div style=\"font-size:10pt\"><div style=\"margin:19px auto;text-align:center\" id=\"WqQANb\"><a href=\"/intl/zh-TW/ads/\">&#24291;&#21578;</a><a href=\"http://www.google.com.tw/intl/zh-TW/services/\">&#21830;&#26989;&#35299;&#27770;&#26041;&#26696;</a><a href=\"/intl/zh-TW/about.html\">&#38364;&#26044; Google</a><a href=\"https://www.google.com/setprefdomain?prefdom=TW&amp;prev=https://www.google.com.tw/&amp;sig=K_aOLEbRoOCYEEKbcfupeRmD7pW8M%3D\">Google.com.tw</a></div></div><p style=\"font-size:8pt;color:#636363\">&copy; 2025 - <a href=\"/intl/zh-TW/policies/privacy/\">&#38577;&#31169;&#27402;</a> - <a href=\"/intl/zh-TW/policies/terms/\">&#26381;&#21209;&#26781;&#27454;</a></p></span></center><script nonce=\"sl3Sn7ehYscYJeASPPYHXg\">(function(){window.google.cdo={height:757,width:1440};(function(){var a=window.innerWidth,b=window.innerHeight;if(!a||!b){var c=window.document,d=c.compatMode==\"CSS1Compat\"?c.documentElement:c.body;a=d.clientWidth;b=d.clientHeight}if(a&&b&&(a!=google.cdo.width||b!=google.cdo.height)){var e=google,f=e.log,g=\"/client_204?&atyp=i&biw=\"+a+\"&bih=\"+b+\"&ei=\"+google.kEI,h=\"\",k=window.google&&window.google.kOPI||null;k&&(h+=\"&opi=\"+k);f.call(e,\"\",\"\",g+h)};}).call(this);})();(function(){google.xjs={basecomb:'/xjs/_/js/k\\x3dxjs.hp.en.qe5vSnvTjoE.es5.O/ck\\x3dxjs.hp.7Rf68XVM5DY.L.X.O/am\\x3dAAIAAAAAAAAgAAAAAAAAAAAAAAAAAAAAAAAAAgAAAAIAAABBIBAAAAAAAAAAAAAAAABAAAAABxiUABwAAAAQAAgQAAAAABAAAAMAAAAAIAEAQAAgAAAA4jsCAAAAgVgEAAAA8AI/d\\x3d1/ed\\x3d1/dg\\x3d0/ujg\\x3d1/rs\\x3dACT90oFfVIXsNjO4yVu1WlAcSAUc5U-wRg',basecss:'/xjs/_/ss/k\\x3dxjs.hp.7Rf68XVM5DY.L.X.O/am\\x3dAAIAAAAAAAAgAAAAAAAAAAAAAAAAAAAAAAAAAgAAAAIAAABBABAAAAAAAAAAAAAAAABAAAAABxgUAAAAAAAQAAgQAAAAABAAAAMAAAAAIAEAQAAgAAAAAAAAAAAAgA/rs\\x3dACT90oEc_XR_WY0juXdFUhAcJEXJVR3PsA',basejs:'/xjs/_/js/k\\x3dxjs.hp.en.qe5vSnvTjoE.es5.O/am\\x3dAAAAAAAAAAAAAAAAAAAAAAAAAAAAAAAAAAAAAAAAAAAAAAABIAAAAAAAAAAAAAAAAABAAAAAAACAABwAAAAAAAAAAAAAAAAAAAAAAAAAAAAAAAAAAAAA4jsCAAAAAVgEAAAA8AI/dg\\x3d0/rs\\x3dACT90oG9kO8XuyUmuPrDSPlo3ZvePS3yQg',excm:[]};})();(function(){var u='/xjs/_/js/k\\x3dxjs.hp.en.qe5vSnvTjoE.es5.O/am\\x3dAAAAAAAAAAAAAAAAAAAAAAAAAAAAAAAAAAAAAAAAAAAAAAABIAAAAAAAAAAAAAAAAABAAAAAAACAABwAAAAAAAAAAAAAAAAAAAAAAAAAAAAAAAAAAAAA4jsCAAAAAVgEAAAA8AI/d\\x3d1/ed\\x3d1/dg\\x3d3/rs\\x3dACT90oG9kO8XuyUmuPrDSPlo3ZvePS3yQg/m\\x3dsb_he,d';var st=1;var amd=1000;var mmd=0;var pop=true;var povp=false;var fp='';\n",
      "var e=this||self;function f(){var a=google.ia&&google.ia.r.B2Jtyd;return a&&[1,5,6].indexOf(a.m)>=0&&a.cbfd&&a.cbvi?a:void 0};function g(a){var b=document.createElement(\"link\");b.as=\"script\";b.href=a;b.rel=\"preload\";document.body.appendChild(b)}function k(){var a=[u];google.dp||(a.forEach(g),google.dp=!0)};google.ps=google.ps||[];function l(){var a=u,b=function(){};google.lx=google.stvsc?b:function(){m(a);google.lx=b};google.bx||google.lx()}function n(a,b){b&&(a.src=b);fp&&google.caft&&google.caft(function(){a.fetchPriority=fp});var h=a.onload;a.onload=function(d){h&&h(d);google.ps=google.ps.filter(function(c){return a!==c})};google.ps.push(a);document.body.appendChild(a)}google.as=n;function m(a){google.tick&&google.tick(\"load\",\"xjsls\");var b=document.createElement(\"script\");b.onerror=function(){google.ple=1};b.onload=function(){google.ple=0};google.xjsus=void 0;n(b,a);google.aple=-1;google.dp=!0};function p(){for(var a=document.getElementsByTagName(\"img\"),b=0,h=a.length;b<h;b++){var d=a[b],c;if(c=d.hasAttribute(\"data-lzy_\")&&Number(d.getAttribute(\"data-atf\"))&1)c=d.getAttribute(\"jscontroller\"),c=!((c===\"UBXHI\"||c===\"R3fhkb\"||c===\"TSZEqd\")&&d.hasAttribute(\"data-src\"));if(c)return!0}return!1};var q,r,t,w,x,y,z,A,B;function C(){google.xjsu=u;e._F_jsUrl=u;x=function(){l()};q=!1;r=(st===1||st===3)&&!!google.caft&&!p();t=f();w=(st===2||st===3)&&!!t&&!p();y=pop;z=povp;A=y&&document.prerendering||z&&document.hidden;B=z?\"visibilitychange\":\"prerenderingchange\"}function D(){q||r||w||A||(x(),q=!0)}\n",
      "setTimeout(function(){google.tick&&google.tick(\"load\",\"xjspls\");C();if(r||w||A){if(r){var a=function(){r=!1;D()};google.caft(a);setTimeout(a,amd)}w&&(a=function(){w=!1;D()},t.cbvi.push(a),setTimeout(a,mmd));if(A){var b=function(){(z?document.hidden:document.prerendering)||(A=!1,D(),document.removeEventListener(B,b))};document.addEventListener(B,b,{passive:!0})}q||k()}else x()},0);})();window._ = window._ || {};window._DumpException = _._DumpException = function(e){throw e;};window._s = window._s || {};_s._DumpException = _._DumpException;window._qs = window._qs || {};_qs._DumpException = _._DumpException;(function(){var t=[512,0,512,0,0,0,0,128,512,12682240,1025,4194304,0,65536,25196608,47644709,1048704,16416,16844800,49152,536870912,25165828,528,9369728,16777216,4450,3080192];window._F_toggles = window._xjs_toggles = t;})();window._F_installCss = window._F_installCss || function(css){};(function(){google.jl={bfl:0,dw:false,eli:false,ine:false,ubm:false,uwp:true,vs:false};})();(function(){var pmc='{\\x22d\\x22:{},\\x22sb_he\\x22:{\\x22client\\x22:\\x22heirloom-hp\\x22,\\x22dh\\x22:true,\\x22ds\\x22:\\x22\\x22,\\x22host\\x22:\\x22google.com\\x22,\\x22jsonp\\x22:true,\\x22msgs\\x22:{\\x22cibl\\x22:\\x22\\\\u6e05\\\\u9664\\\\u641c\\\\u5c0b\\x22,\\x22dym\\x22:\\x22\\\\u4f60\\\\u662f\\\\u4e0d\\\\u662f\\\\u8981\\\\u67e5\\\\uff1a\\x22,\\x22lcky\\x22:\\x22\\\\u597d\\\\u624b\\\\u6c23\\x22,\\x22lml\\x22:\\x22\\\\u77ad\\\\u89e3\\\\u8a73\\\\u60c5\\x22,\\x22psrc\\x22:\\x22\\\\u5df2\\\\u5f9e\\\\u60a8\\\\u7684\\\\u300c\\\\u003Ca href\\x3d\\\\\\x22/history\\\\\\x22\\\\u003E\\\\u7db2\\\\u9801\\\\u8a18\\\\u9304\\\\u003C/a\\\\u003E\\\\u300d\\\\u4e2d\\\\u79fb\\\\u9664\\\\u9019\\\\u7b46\\\\u641c\\\\u5c0b\\\\u8a18\\\\u9304\\x22,\\x22psrl\\x22:\\x22\\\\u79fb\\\\u9664\\x22,\\x22sbit\\x22:\\x22\\\\u4ee5\\\\u5716\\\\u641c\\\\u5c0b\\x22,\\x22srch\\x22:\\x22Google \\\\u641c\\\\u5c0b\\x22},\\x22ovr\\x22:{},\\x22pq\\x22:\\x22\\x22,\\x22rfs\\x22:[],\\x22stok\\x22:\\x22wKcL7iuOD68vLRVTmttYH7TONDo\\x22}}';google.pmc=JSON.parse(pmc);})();</script></body></html>\n"
     ]
    }
   ],
   "source": [
    "\n",
    "import requests\n",
    "\n",
    "response=requests.get(\"https://www.google.com\")\n",
    "print(response.status_code)\n",
    "print(response.text)\n",
    "#print(response.json())\n"
   ]
  },
  {
   "cell_type": "markdown",
   "id": "9f358049",
   "metadata": {},
   "source": [
    "#import.Requests"
   ]
  },
  {
   "cell_type": "code",
   "execution_count": null,
   "id": "d7139d7e",
   "metadata": {},
   "outputs": [
    {
     "name": "stdout",
     "output_type": "stream",
     "text": [
      "狀態碼: 500\n",
      "回應內容: {\"error\":\"model requires more system memory (2.3 GiB) than is available (1.7 GiB)\"}\n"
     ]
    }
   ],
   "source": [
    "\n",
    "\n"
   ]
  },
  {
   "cell_type": "code",
   "execution_count": null,
   "id": "eaa0a6a5",
   "metadata": {},
   "outputs": [
    {
     "ename": "KeyboardInterrupt",
     "evalue": "",
     "output_type": "error",
     "traceback": [
      "\u001b[31m---------------------------------------------------------------------------\u001b[39m",
      "\u001b[31mKeyboardInterrupt\u001b[39m                         Traceback (most recent call last)",
      "\u001b[36mCell\u001b[39m\u001b[36m \u001b[39m\u001b[32mIn[19]\u001b[39m\u001b[32m, line 17\u001b[39m\n\u001b[32m     11\u001b[39m data = {\n\u001b[32m     12\u001b[39m     \u001b[33m\"\u001b[39m\u001b[33mmodel\u001b[39m\u001b[33m\"\u001b[39m: \u001b[33m\"\u001b[39m\u001b[33mllama3.2\u001b[39m\u001b[33m\"\u001b[39m,\n\u001b[32m     13\u001b[39m     \u001b[33m\"\u001b[39m\u001b[33mprompt\u001b[39m\u001b[33m\"\u001b[39m: \u001b[33m\"\u001b[39m\u001b[33mWhy is the sky blue?\u001b[39m\u001b[33m\"\u001b[39m\n\u001b[32m     14\u001b[39m }\n\u001b[32m     16\u001b[39m \u001b[38;5;66;03m# 發送 POST 請求 (curl 預設使用 POST 方法當有 -d 參數時)\u001b[39;00m\n\u001b[32m---> \u001b[39m\u001b[32m17\u001b[39m response = \u001b[43mrequests\u001b[49m\u001b[43m.\u001b[49m\u001b[43mpost\u001b[49m\u001b[43m(\u001b[49m\u001b[43murl\u001b[49m\u001b[43m,\u001b[49m\u001b[43m \u001b[49m\u001b[43mjson\u001b[49m\u001b[43m=\u001b[49m\u001b[43mdata\u001b[49m\u001b[43m)\u001b[49m\n\u001b[32m     19\u001b[39m \u001b[38;5;66;03m# 檢查回應狀態碼\u001b[39;00m\n\u001b[32m     20\u001b[39m \u001b[38;5;28mprint\u001b[39m(\u001b[33mf\u001b[39m\u001b[33m\"\u001b[39m\u001b[33m狀態碼: \u001b[39m\u001b[38;5;132;01m{\u001b[39;00mresponse.status_code\u001b[38;5;132;01m}\u001b[39;00m\u001b[33m\"\u001b[39m)\n",
      "\u001b[36mFile \u001b[39m\u001b[32mc:\\Users\\eddiejiang\\miniconda3\\envs\\langchain\\Lib\\site-packages\\requests\\api.py:115\u001b[39m, in \u001b[36mpost\u001b[39m\u001b[34m(url, data, json, **kwargs)\u001b[39m\n\u001b[32m    103\u001b[39m \u001b[38;5;28;01mdef\u001b[39;00m\u001b[38;5;250m \u001b[39m\u001b[34mpost\u001b[39m(url, data=\u001b[38;5;28;01mNone\u001b[39;00m, json=\u001b[38;5;28;01mNone\u001b[39;00m, **kwargs):\n\u001b[32m    104\u001b[39m \u001b[38;5;250m    \u001b[39m\u001b[33mr\u001b[39m\u001b[33;03m\"\"\"Sends a POST request.\u001b[39;00m\n\u001b[32m    105\u001b[39m \n\u001b[32m    106\u001b[39m \u001b[33;03m    :param url: URL for the new :class:`Request` object.\u001b[39;00m\n\u001b[32m   (...)\u001b[39m\u001b[32m    112\u001b[39m \u001b[33;03m    :rtype: requests.Response\u001b[39;00m\n\u001b[32m    113\u001b[39m \u001b[33;03m    \"\"\"\u001b[39;00m\n\u001b[32m--> \u001b[39m\u001b[32m115\u001b[39m     \u001b[38;5;28;01mreturn\u001b[39;00m \u001b[43mrequest\u001b[49m\u001b[43m(\u001b[49m\u001b[33;43m\"\u001b[39;49m\u001b[33;43mpost\u001b[39;49m\u001b[33;43m\"\u001b[39;49m\u001b[43m,\u001b[49m\u001b[43m \u001b[49m\u001b[43murl\u001b[49m\u001b[43m,\u001b[49m\u001b[43m \u001b[49m\u001b[43mdata\u001b[49m\u001b[43m=\u001b[49m\u001b[43mdata\u001b[49m\u001b[43m,\u001b[49m\u001b[43m \u001b[49m\u001b[43mjson\u001b[49m\u001b[43m=\u001b[49m\u001b[43mjson\u001b[49m\u001b[43m,\u001b[49m\u001b[43m \u001b[49m\u001b[43m*\u001b[49m\u001b[43m*\u001b[49m\u001b[43mkwargs\u001b[49m\u001b[43m)\u001b[49m\n",
      "\u001b[36mFile \u001b[39m\u001b[32mc:\\Users\\eddiejiang\\miniconda3\\envs\\langchain\\Lib\\site-packages\\requests\\api.py:59\u001b[39m, in \u001b[36mrequest\u001b[39m\u001b[34m(method, url, **kwargs)\u001b[39m\n\u001b[32m     55\u001b[39m \u001b[38;5;66;03m# By using the 'with' statement we are sure the session is closed, thus we\u001b[39;00m\n\u001b[32m     56\u001b[39m \u001b[38;5;66;03m# avoid leaving sockets open which can trigger a ResourceWarning in some\u001b[39;00m\n\u001b[32m     57\u001b[39m \u001b[38;5;66;03m# cases, and look like a memory leak in others.\u001b[39;00m\n\u001b[32m     58\u001b[39m \u001b[38;5;28;01mwith\u001b[39;00m sessions.Session() \u001b[38;5;28;01mas\u001b[39;00m session:\n\u001b[32m---> \u001b[39m\u001b[32m59\u001b[39m     \u001b[38;5;28;01mreturn\u001b[39;00m \u001b[43msession\u001b[49m\u001b[43m.\u001b[49m\u001b[43mrequest\u001b[49m\u001b[43m(\u001b[49m\u001b[43mmethod\u001b[49m\u001b[43m=\u001b[49m\u001b[43mmethod\u001b[49m\u001b[43m,\u001b[49m\u001b[43m \u001b[49m\u001b[43murl\u001b[49m\u001b[43m=\u001b[49m\u001b[43murl\u001b[49m\u001b[43m,\u001b[49m\u001b[43m \u001b[49m\u001b[43m*\u001b[49m\u001b[43m*\u001b[49m\u001b[43mkwargs\u001b[49m\u001b[43m)\u001b[49m\n",
      "\u001b[36mFile \u001b[39m\u001b[32mc:\\Users\\eddiejiang\\miniconda3\\envs\\langchain\\Lib\\site-packages\\requests\\sessions.py:589\u001b[39m, in \u001b[36mSession.request\u001b[39m\u001b[34m(self, method, url, params, data, headers, cookies, files, auth, timeout, allow_redirects, proxies, hooks, stream, verify, cert, json)\u001b[39m\n\u001b[32m    584\u001b[39m send_kwargs = {\n\u001b[32m    585\u001b[39m     \u001b[33m\"\u001b[39m\u001b[33mtimeout\u001b[39m\u001b[33m\"\u001b[39m: timeout,\n\u001b[32m    586\u001b[39m     \u001b[33m\"\u001b[39m\u001b[33mallow_redirects\u001b[39m\u001b[33m\"\u001b[39m: allow_redirects,\n\u001b[32m    587\u001b[39m }\n\u001b[32m    588\u001b[39m send_kwargs.update(settings)\n\u001b[32m--> \u001b[39m\u001b[32m589\u001b[39m resp = \u001b[38;5;28;43mself\u001b[39;49m\u001b[43m.\u001b[49m\u001b[43msend\u001b[49m\u001b[43m(\u001b[49m\u001b[43mprep\u001b[49m\u001b[43m,\u001b[49m\u001b[43m \u001b[49m\u001b[43m*\u001b[49m\u001b[43m*\u001b[49m\u001b[43msend_kwargs\u001b[49m\u001b[43m)\u001b[49m\n\u001b[32m    591\u001b[39m \u001b[38;5;28;01mreturn\u001b[39;00m resp\n",
      "\u001b[36mFile \u001b[39m\u001b[32mc:\\Users\\eddiejiang\\miniconda3\\envs\\langchain\\Lib\\site-packages\\requests\\sessions.py:746\u001b[39m, in \u001b[36mSession.send\u001b[39m\u001b[34m(self, request, **kwargs)\u001b[39m\n\u001b[32m    743\u001b[39m         \u001b[38;5;28;01mpass\u001b[39;00m\n\u001b[32m    745\u001b[39m \u001b[38;5;28;01mif\u001b[39;00m \u001b[38;5;129;01mnot\u001b[39;00m stream:\n\u001b[32m--> \u001b[39m\u001b[32m746\u001b[39m     \u001b[43mr\u001b[49m\u001b[43m.\u001b[49m\u001b[43mcontent\u001b[49m\n\u001b[32m    748\u001b[39m \u001b[38;5;28;01mreturn\u001b[39;00m r\n",
      "\u001b[36mFile \u001b[39m\u001b[32mc:\\Users\\eddiejiang\\miniconda3\\envs\\langchain\\Lib\\site-packages\\requests\\models.py:902\u001b[39m, in \u001b[36mResponse.content\u001b[39m\u001b[34m(self)\u001b[39m\n\u001b[32m    900\u001b[39m         \u001b[38;5;28mself\u001b[39m._content = \u001b[38;5;28;01mNone\u001b[39;00m\n\u001b[32m    901\u001b[39m     \u001b[38;5;28;01melse\u001b[39;00m:\n\u001b[32m--> \u001b[39m\u001b[32m902\u001b[39m         \u001b[38;5;28mself\u001b[39m._content = \u001b[33mb\u001b[39m\u001b[33m\"\u001b[39m\u001b[33m\"\u001b[39m.join(\u001b[38;5;28mself\u001b[39m.iter_content(CONTENT_CHUNK_SIZE)) \u001b[38;5;129;01mor\u001b[39;00m \u001b[33mb\u001b[39m\u001b[33m\"\u001b[39m\u001b[33m\"\u001b[39m\n\u001b[32m    904\u001b[39m \u001b[38;5;28mself\u001b[39m._content_consumed = \u001b[38;5;28;01mTrue\u001b[39;00m\n\u001b[32m    905\u001b[39m \u001b[38;5;66;03m# don't need to release the connection; that's been handled by urllib3\u001b[39;00m\n\u001b[32m    906\u001b[39m \u001b[38;5;66;03m# since we exhausted the data.\u001b[39;00m\n",
      "\u001b[36mFile \u001b[39m\u001b[32mc:\\Users\\eddiejiang\\miniconda3\\envs\\langchain\\Lib\\site-packages\\requests\\models.py:820\u001b[39m, in \u001b[36mResponse.iter_content.<locals>.generate\u001b[39m\u001b[34m()\u001b[39m\n\u001b[32m    818\u001b[39m \u001b[38;5;28;01mif\u001b[39;00m \u001b[38;5;28mhasattr\u001b[39m(\u001b[38;5;28mself\u001b[39m.raw, \u001b[33m\"\u001b[39m\u001b[33mstream\u001b[39m\u001b[33m\"\u001b[39m):\n\u001b[32m    819\u001b[39m     \u001b[38;5;28;01mtry\u001b[39;00m:\n\u001b[32m--> \u001b[39m\u001b[32m820\u001b[39m         \u001b[38;5;28;01myield from\u001b[39;00m \u001b[38;5;28mself\u001b[39m.raw.stream(chunk_size, decode_content=\u001b[38;5;28;01mTrue\u001b[39;00m)\n\u001b[32m    821\u001b[39m     \u001b[38;5;28;01mexcept\u001b[39;00m ProtocolError \u001b[38;5;28;01mas\u001b[39;00m e:\n\u001b[32m    822\u001b[39m         \u001b[38;5;28;01mraise\u001b[39;00m ChunkedEncodingError(e)\n",
      "\u001b[36mFile \u001b[39m\u001b[32mc:\\Users\\eddiejiang\\miniconda3\\envs\\langchain\\Lib\\site-packages\\urllib3\\response.py:1088\u001b[39m, in \u001b[36mHTTPResponse.stream\u001b[39m\u001b[34m(self, amt, decode_content)\u001b[39m\n\u001b[32m   1072\u001b[39m \u001b[38;5;250m\u001b[39m\u001b[33;03m\"\"\"\u001b[39;00m\n\u001b[32m   1073\u001b[39m \u001b[33;03mA generator wrapper for the read() method. A call will block until\u001b[39;00m\n\u001b[32m   1074\u001b[39m \u001b[33;03m``amt`` bytes have been read from the connection or until the\u001b[39;00m\n\u001b[32m   (...)\u001b[39m\u001b[32m   1085\u001b[39m \u001b[33;03m    'content-encoding' header.\u001b[39;00m\n\u001b[32m   1086\u001b[39m \u001b[33;03m\"\"\"\u001b[39;00m\n\u001b[32m   1087\u001b[39m \u001b[38;5;28;01mif\u001b[39;00m \u001b[38;5;28mself\u001b[39m.chunked \u001b[38;5;129;01mand\u001b[39;00m \u001b[38;5;28mself\u001b[39m.supports_chunked_reads():\n\u001b[32m-> \u001b[39m\u001b[32m1088\u001b[39m     \u001b[38;5;28;01myield from\u001b[39;00m \u001b[38;5;28mself\u001b[39m.read_chunked(amt, decode_content=decode_content)\n\u001b[32m   1089\u001b[39m \u001b[38;5;28;01melse\u001b[39;00m:\n\u001b[32m   1090\u001b[39m     \u001b[38;5;28;01mwhile\u001b[39;00m \u001b[38;5;129;01mnot\u001b[39;00m is_fp_closed(\u001b[38;5;28mself\u001b[39m._fp) \u001b[38;5;129;01mor\u001b[39;00m \u001b[38;5;28mlen\u001b[39m(\u001b[38;5;28mself\u001b[39m._decoded_buffer) > \u001b[32m0\u001b[39m:\n",
      "\u001b[36mFile \u001b[39m\u001b[32mc:\\Users\\eddiejiang\\miniconda3\\envs\\langchain\\Lib\\site-packages\\urllib3\\response.py:1248\u001b[39m, in \u001b[36mHTTPResponse.read_chunked\u001b[39m\u001b[34m(self, amt, decode_content)\u001b[39m\n\u001b[32m   1245\u001b[39m     amt = \u001b[38;5;28;01mNone\u001b[39;00m\n\u001b[32m   1247\u001b[39m \u001b[38;5;28;01mwhile\u001b[39;00m \u001b[38;5;28;01mTrue\u001b[39;00m:\n\u001b[32m-> \u001b[39m\u001b[32m1248\u001b[39m     \u001b[38;5;28;43mself\u001b[39;49m\u001b[43m.\u001b[49m\u001b[43m_update_chunk_length\u001b[49m\u001b[43m(\u001b[49m\u001b[43m)\u001b[49m\n\u001b[32m   1249\u001b[39m     \u001b[38;5;28;01mif\u001b[39;00m \u001b[38;5;28mself\u001b[39m.chunk_left == \u001b[32m0\u001b[39m:\n\u001b[32m   1250\u001b[39m         \u001b[38;5;28;01mbreak\u001b[39;00m\n",
      "\u001b[36mFile \u001b[39m\u001b[32mc:\\Users\\eddiejiang\\miniconda3\\envs\\langchain\\Lib\\site-packages\\urllib3\\response.py:1167\u001b[39m, in \u001b[36mHTTPResponse._update_chunk_length\u001b[39m\u001b[34m(self)\u001b[39m\n\u001b[32m   1165\u001b[39m \u001b[38;5;28;01mif\u001b[39;00m \u001b[38;5;28mself\u001b[39m.chunk_left \u001b[38;5;129;01mis\u001b[39;00m \u001b[38;5;129;01mnot\u001b[39;00m \u001b[38;5;28;01mNone\u001b[39;00m:\n\u001b[32m   1166\u001b[39m     \u001b[38;5;28;01mreturn\u001b[39;00m \u001b[38;5;28;01mNone\u001b[39;00m\n\u001b[32m-> \u001b[39m\u001b[32m1167\u001b[39m line = \u001b[38;5;28mself\u001b[39m._fp.fp.readline()  \u001b[38;5;66;03m# type: ignore[union-attr]\u001b[39;00m\n\u001b[32m   1168\u001b[39m line = line.split(\u001b[33mb\u001b[39m\u001b[33m\"\u001b[39m\u001b[33m;\u001b[39m\u001b[33m\"\u001b[39m, \u001b[32m1\u001b[39m)[\u001b[32m0\u001b[39m]\n\u001b[32m   1169\u001b[39m \u001b[38;5;28;01mtry\u001b[39;00m:\n",
      "\u001b[36mFile \u001b[39m\u001b[32mc:\\Users\\eddiejiang\\miniconda3\\envs\\langchain\\Lib\\socket.py:718\u001b[39m, in \u001b[36mSocketIO.readinto\u001b[39m\u001b[34m(self, b)\u001b[39m\n\u001b[32m    716\u001b[39m \u001b[38;5;28;01mwhile\u001b[39;00m \u001b[38;5;28;01mTrue\u001b[39;00m:\n\u001b[32m    717\u001b[39m     \u001b[38;5;28;01mtry\u001b[39;00m:\n\u001b[32m--> \u001b[39m\u001b[32m718\u001b[39m         \u001b[38;5;28;01mreturn\u001b[39;00m \u001b[38;5;28;43mself\u001b[39;49m\u001b[43m.\u001b[49m\u001b[43m_sock\u001b[49m\u001b[43m.\u001b[49m\u001b[43mrecv_into\u001b[49m\u001b[43m(\u001b[49m\u001b[43mb\u001b[49m\u001b[43m)\u001b[49m\n\u001b[32m    719\u001b[39m     \u001b[38;5;28;01mexcept\u001b[39;00m timeout:\n\u001b[32m    720\u001b[39m         \u001b[38;5;28mself\u001b[39m._timeout_occurred = \u001b[38;5;28;01mTrue\u001b[39;00m\n",
      "\u001b[31mKeyboardInterrupt\u001b[39m: "
     ]
    }
   ],
   "source": [
    "# 使用 requests 套件發送 POST 請求到 Ollama API\n",
    "# 將 curl 命令轉換為 Python requests 程式碼\n",
    "# curl http://localhost:11434/api/generate -d '{ \"model\": \"llama3.2\", \"prompt\":\"Why is the sky blue?\" }'\n",
    "\n",
    "import requests\n",
    "import json\n",
    "\n",
    "# API 端點\n",
    "url = \"http://localhost:11434/api/generate\"\n",
    "\n",
    "# 請求資料 (對應 curl 的 -d 參數)\n",
    "data = {\n",
    "    \"model\": \"llama3.2\",\n",
    "    \"prompt\": \"Why is the sky blue?\"\n",
    "}\n",
    "\n",
    "try:\n",
    "    # 發送 POST 請求 (curl 預設使用 POST 方法當有 -d 參數時)\n",
    "    response = requests.post(url, json=data)\n",
    "    \n",
    "    # 檢查回應狀態碼\n",
    "    print(f\"狀態碼: {response.status_code}\")\n",
    "    \n",
    "    # 檢查請求是否成功\n",
    "    if response.status_code == 200:\n",
    "        # 解析 JSON 回應\n",
    "        result = response.json()\n",
    "        print(\"回應內容:\")\n",
    "        print(json.dumps(result, indent=2, ensure_ascii=False))\n",
    "    else:\n",
    "        print(\"請求失敗\")\n",
    "        print(f\"錯誤訊息: {response.text}\")\n",
    "        \n",
    "except requests.exceptions.ConnectionError:\n",
    "    print(\"無法連接到 Ollama 服務，請確認服務是否正在運行\")\n",
    "except requests.exceptions.RequestException as e:\n",
    "    print(f\"請求發生錯誤: {e}\")\n",
    "except json.JSONDecodeError:\n",
    "    print(\"回應不是有效的 JSON 格式\")\n",
    "    print(f\"原始回應: {response.text}\")\n"
   ]
  },
  {
   "cell_type": "code",
   "execution_count": null,
   "id": "e8c99aa6",
   "metadata": {},
   "outputs": [
    {
     "name": "stdout",
     "output_type": "stream",
     "text": [
      "失敗\n",
      "<module 'requests.status_codes' from 'c:\\\\Users\\\\eddiejiang\\\\miniconda3\\\\envs\\\\langchain\\\\Lib\\\\site-packages\\\\requests\\\\status_codes.py'>\n"
     ]
    }
   ],
   "source": [
    "curl http://localhost:11434/api/generate -d '{\n",
    "  \"model\": \"llama3.2\",\n",
    "  \"prompt\":\"Why is the sky blue?\"\n",
    "}'"
   ]
  },
  {
   "cell_type": "code",
   "execution_count": 27,
   "id": "f1472c93",
   "metadata": {},
   "outputs": [
    {
     "name": "stdout",
     "output_type": "stream",
     "text": [
      "成功\n"
     ]
    }
   ],
   "source": [
    "# 簡潔版本的 requests 程式碼\n",
    "import requests\n",
    "\n",
    "# 對應的 curl 命令：\n",
    "# curl http://localhost:11434/api/generate -d '{ \"model\": \"llama3.2\", \"prompt\":\"Why is the sky blue?\" }'\n",
    "\n",
    "url = \"http://localhost:11434/api/generate\"\n",
    "data = {\n",
    "    \"model\": \"gemma3:1b\",\n",
    "    \"prompt\": \"Why is the sky blue?\"\n",
    "}\n",
    "\n",
    "response = requests.post(url, json=data)\n",
    "\n",
    "if response.status_code == 200 :\n",
    "    print(\"成功\")\n",
    "    #print(f\"狀態碼: {response.status_code}\")\n",
    "    #print(f\"回應: {response.json()}\")\n",
    "else:\n",
    "    print(\"失敗\")"
   ]
  },
  {
   "cell_type": "code",
   "execution_count": 1,
   "id": "14826f76",
   "metadata": {},
   "outputs": [
    {
     "name": "stdout",
     "output_type": "stream",
     "text": [
      "💬 AI 回應：\n",
      "{'model': 'gemma3:1b', 'created_at': '2025-09-20T01:09:43.8148642Z', 'response': '{\\n\"response\": \"天空之所以是藍色的，主要是因為一種叫做**瑞利散射**的現象。簡單來說，太陽光是由紅、黃、綠等各種顏色的光組成，在進入地球大氣層時，這些光會與空氣中的微小分子（主要是氮氣和氧氣）發生碰撞。\"\\n\\n}', 'done': True, 'done_reason': 'stop', 'context': [105, 2364, 107, 141370, 95202, 237026, 241339, 40074, 237536, 106, 107, 105, 4368, 107, 236782, 107, 236775, 6275, 1083, 623, 141370, 132414, 237026, 241339, 40074, 236900, 74836, 27502, 120460, 100083, 1018, 240046, 237766, 150341, 1018, 236918, 121887, 236924, 74624, 94757, 236900, 83700, 237914, 81049, 239691, 236951, 240544, 236951, 241653, 237520, 77722, 242017, 40074, 237914, 168658, 236900, 237075, 82655, 71216, 237110, 239471, 239614, 237479, 236900, 52426, 237914, 238003, 238693, 235450, 12870, 238477, 237369, 67845, 237221, 74836, 243140, 239471, 237206, 240514, 239471, 237214, 90972, 181044, 165220, 108, 236783], 'total_duration': 7567128600, 'load_duration': 3499750500, 'prompt_eval_count': 15, 'prompt_eval_duration': 973409200, 'eval_count': 74, 'eval_duration': 2500194000}\n",
      "{\n",
      "\"response\": \"天空之所以是藍色的，主要是因為一種叫做**瑞利散射**的現象。簡單來說，太陽光是由紅、黃、綠等各種顏色的光組成，在進入地球大氣層時，這些光會與空氣中的微小分子（主要是氮氣和氧氣）發生碰撞。\"\n",
      "\n",
      "}\n"
     ]
    }
   ],
   "source": [
    "import requests\n",
    "\n",
    "def chat_with_ollama(prompt: str):\n",
    "    url = \"http://localhost:11434/api/generate\"\n",
    "    payload = {\n",
    "        \"model\": \"gemma3:1b\",\n",
    "        \"prompt\": prompt,\n",
    "        \"stream\": False,\n",
    "        \"options\": { #參考說明1\n",
    "            \"temperature\": 0.8,\n",
    "            \"top_p\": 0.1,\n",
    "            \"top_k\": 30,\n",
    "        },\n",
    "        \"max_tokens\": 100,\n",
    "        \"format\": \"json\",\n",
    "    }\n",
    "\n",
    "    response = requests.post(url, json=payload)\n",
    "    result = response.json()\n",
    "    print(\"💬 AI 回應：\")\n",
    "    # Print the whole result for debugging\n",
    "    print(result)\n",
    "    # Try to print the 'response' key if it exists, otherwise print possible keys\n",
    "    if \"response\" in result:\n",
    "        print(result[\"response\"])\n",
    "    elif \"message\" in result:\n",
    "        print(result[\"message\"])\n",
    "    elif \"content\" in result:\n",
    "        print(result[\"content\"])\n",
    "    else:\n",
    "        print(\"No expected key found in response. Available keys:\", result.keys())\n",
    "\n",
    "#範例輸入\n",
    "chat_with_ollama(\"天空為什麼是藍色的？\")"
   ]
  }
 ],
 "metadata": {
  "kernelspec": {
   "display_name": "langchain",
   "language": "python",
   "name": "python3"
  },
  "language_info": {
   "codemirror_mode": {
    "name": "ipython",
    "version": 3
   },
   "file_extension": ".py",
   "mimetype": "text/x-python",
   "name": "python",
   "nbconvert_exporter": "python",
   "pygments_lexer": "ipython3",
   "version": "3.11.13"
  }
 },
 "nbformat": 4,
 "nbformat_minor": 5
}
