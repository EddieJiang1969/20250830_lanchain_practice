{
 "cells": [
  {
   "cell_type": "markdown",
   "id": "bb9e17e2",
   "metadata": {},
   "source": [
    "#### 使用ollama"
   ]
  },
  {
   "cell_type": "code",
   "execution_count": null,
   "id": "d65111ab",
   "metadata": {},
   "outputs": [],
   "source": []
  },
  {
   "cell_type": "code",
   "execution_count": 3,
   "id": "14ef2f69",
   "metadata": {},
   "outputs": [
    {
     "name": "stdout",
     "output_type": "stream",
     "text": [
      "<class 'langchain_core.messages.ai.AIMessage'>\n",
      "所有答案\n",
      "content='81 除以 9 的结果是 9。' additional_kwargs={} response_metadata={'model': 'llama3.2:latest', 'created_at': '2025-09-20T07:02:01.3989629Z', 'done': True, 'done_reason': 'stop', 'total_duration': 31214297700, 'load_duration': 14001043800, 'prompt_eval_count': 33, 'prompt_eval_duration': 9792742800, 'eval_count': 13, 'eval_duration': 4674580800, 'model_name': 'llama3.2:latest'} id='run--5a05d7d8-354b-4eeb-ac15-0cc1e77e0dda-0' usage_metadata={'input_tokens': 33, 'output_tokens': 13, 'total_tokens': 46}\n",
      "回答內容是\n",
      "81 除以 9 的结果是 9。\n"
     ]
    }
   ],
   "source": [
    "from langchain_ollama import ChatOllama\n",
    "\n",
    "\n",
    "# Create a ChatOllama model\n",
    "# 透過網址的方式連結ollama (指定 base_url 指向 Ollama server)\n",
    "# 預設 Ollama server 在本機的 11434 埠，若在其他主機或埠請改成相對應的網址\n",
    "\n",
    "#model = ChatOllama(model=\"llama3.2:latest\", base_url=\"http://host.docker.internal:11434\")\n",
    "model = ChatOllama(model=\"llama3.2:latest\",base_url=\"http://localhost:11434\")\n",
    "\n",
    "\n",
    "# Invoke the model with a message\n",
    "result = model.invoke(\"81除以9的答案是?\")\n",
    "print(type(result))\n",
    "print(\"所有答案\")\n",
    "print(result)\n",
    "print(\"回答內容是\")\n",
    "print(result.content)"
   ]
  },
  {
   "cell_type": "code",
   "execution_count": null,
   "id": "80eccdec",
   "metadata": {},
   "outputs": [
    {
     "name": "stdout",
     "output_type": "stream",
     "text": [
      "<class 'langchain_core.messages.ai.AIMessage'>\n",
      "所有答案\n",
      "content='天空之所以是藍色的，主要是因為**瑞利散射 (Rayleigh Scattering)** 這個物理現象。\\n\\n以下是詳細的解釋：\\n\\n1.  **太陽光由多種顏色組成：** 我們看到的太陽光（白光）實際上是由紅、橙、黃、綠、藍、靛、紫等不同顏色的光組成的，這些光有著不同的波長。其中，藍色和紫色的光波長較短，而紅色和橙色的光波長較長。\\n\\n2.  **地球大氣層的組成：** 地球的大氣層由氮氣（約78%）、氧氣（約21%）以及少量其他氣體和微小塵埃顆粒組成。這些氣體分子和微粒的尺寸比可見光的波長要小得多。\\n\\n3.  **瑞利散射：** 當光線穿過大氣層時，會與這些微小的氣體分子和顆粒發生相互作用。瑞利散射定律指出，光線的散射強度與其波長的四次方成反比。\\n    *   這意味著，波長越短的光（如藍光和紫光），其散射的強度就越大。\\n    *   波長越長的光（如紅光和橙光），其散射的強度就越小。\\n\\n4.  **藍光被大量散射：** 因此，當太陽光進入地球大氣層時，波長較短的藍光和紫光會被大氣中的分子和微粒向四面八方散射開來，充滿了整個天空。當我們仰望天空時，我們看到的就是這些被散射開來的藍光。\\n\\n5.  **為什麼不是紫色？** 雖然紫光的波長比藍光更短，散射得更厲害，但天空卻是藍色的而不是紫色的，原因有二：\\n    *   **太陽光譜：** 太陽光中藍光的成分本身就比紫光多。\\n    *   **人眼敏感度：** 人眼對藍光比對紫光更敏感。\\n    *   綜合這兩個因素，我們感知到的天空顏色就是藍色。\\n\\n**其他相關現象：**\\n\\n*   **日出和日落時天空變紅：** 當太陽在地平線附近時，陽光需要穿過更厚的大氣層才能到達我們的眼睛。這時，大部分的藍光和紫光在到達我們之前就已經被散射掉了。剩下波長較長、散射較少的紅光、橙光和黃光才能直接穿透大氣層，所以我們看到日出和日落時的天空呈現紅色或橙色。\\n*   **雲朵是白色的：** 雲朵是由水滴或冰晶組成的，這些顆粒比大氣分子大得多。它們對所有波長的光都會進行大致均勻的散射（這稱為米氏散射，Mie Scattering），所以雲朵看起來是白色的。\\n\\n總結來說，天空之所以是藍色的，是因為大氣中的分子對太陽光中的藍光進行了更強烈的散射，將藍光散佈到整個視野中。' additional_kwargs={} response_metadata={'prompt_feedback': {'block_reason': 0, 'safety_ratings': []}, 'finish_reason': 'STOP', 'model_name': 'gemini-2.5-flash', 'safety_ratings': []} id='run--58909375-e0f1-4401-bbbe-b7f3b3a4274c-0' usage_metadata={'input_tokens': 7, 'output_tokens': 1474, 'total_tokens': 1481, 'input_token_details': {'cache_read': 0}, 'output_token_details': {'reasoning': 800}}\n",
      "回答內容是\n",
      "天空之所以是藍色的，主要是因為**瑞利散射 (Rayleigh Scattering)** 這個物理現象。\n",
      "\n",
      "以下是詳細的解釋：\n",
      "\n",
      "1.  **太陽光由多種顏色組成：** 我們看到的太陽光（白光）實際上是由紅、橙、黃、綠、藍、靛、紫等不同顏色的光組成的，這些光有著不同的波長。其中，藍色和紫色的光波長較短，而紅色和橙色的光波長較長。\n",
      "\n",
      "2.  **地球大氣層的組成：** 地球的大氣層由氮氣（約78%）、氧氣（約21%）以及少量其他氣體和微小塵埃顆粒組成。這些氣體分子和微粒的尺寸比可見光的波長要小得多。\n",
      "\n",
      "3.  **瑞利散射：** 當光線穿過大氣層時，會與這些微小的氣體分子和顆粒發生相互作用。瑞利散射定律指出，光線的散射強度與其波長的四次方成反比。\n",
      "    *   這意味著，波長越短的光（如藍光和紫光），其散射的強度就越大。\n",
      "    *   波長越長的光（如紅光和橙光），其散射的強度就越小。\n",
      "\n",
      "4.  **藍光被大量散射：** 因此，當太陽光進入地球大氣層時，波長較短的藍光和紫光會被大氣中的分子和微粒向四面八方散射開來，充滿了整個天空。當我們仰望天空時，我們看到的就是這些被散射開來的藍光。\n",
      "\n",
      "5.  **為什麼不是紫色？** 雖然紫光的波長比藍光更短，散射得更厲害，但天空卻是藍色的而不是紫色的，原因有二：\n",
      "    *   **太陽光譜：** 太陽光中藍光的成分本身就比紫光多。\n",
      "    *   **人眼敏感度：** 人眼對藍光比對紫光更敏感。\n",
      "    *   綜合這兩個因素，我們感知到的天空顏色就是藍色。\n",
      "\n",
      "**其他相關現象：**\n",
      "\n",
      "*   **日出和日落時天空變紅：** 當太陽在地平線附近時，陽光需要穿過更厚的大氣層才能到達我們的眼睛。這時，大部分的藍光和紫光在到達我們之前就已經被散射掉了。剩下波長較長、散射較少的紅光、橙光和黃光才能直接穿透大氣層，所以我們看到日出和日落時的天空呈現紅色或橙色。\n",
      "*   **雲朵是白色的：** 雲朵是由水滴或冰晶組成的，這些顆粒比大氣分子大得多。它們對所有波長的光都會進行大致均勻的散射（這稱為米氏散射，Mie Scattering），所以雲朵看起來是白色的。\n",
      "\n",
      "總結來說，天空之所以是藍色的，是因為大氣中的分子對太陽光中的藍光進行了更強烈的散射，將藍光散佈到整個視野中。\n"
     ]
    }
   ],
   "source": [
    "from dotenv import load_dotenv\n",
    "from langchain_google_genai import ChatGoogleGenerativeAI\n",
    "\n",
    "# Load environment variables from .env\n",
    "load_dotenv()\n",
    "\n",
    "# Create a ChatGoogleGenerativeAI model\n",
    "model = ChatGoogleGenerativeAI(model=\"gemini-2.5-flash\",temperature=0.5)\n",
    "\n",
    "#Invoke the model with a message\n",
    "\n",
    "result = model.invoke(\"天空為什麼是藍的?\")\n",
    "print(type(result))\n",
    "print(\"所有答案\")\n",
    "print(result)\n",
    "print(\"回答內容是\")\n",
    "print(result.content)"
   ]
  },
  {
   "cell_type": "code",
   "execution_count": 15,
   "id": "60471ea1",
   "metadata": {},
   "outputs": [
    {
     "name": "stdout",
     "output_type": "stream",
     "text": [
      "<class 'langchain_google_genai.chat_models.ChatGoogleGenerativeAI'>\n",
      "<class 'langchain_core.messages.ai.AIMessage'>\n",
      "所有答案\n",
      "回答內容是\n",
      "好的，這是一首關於秋天的中文詩：\n",
      "\n",
      "**秋意**\n",
      "\n",
      "金風送爽入畫來，\n",
      "悄然間，暑氣已盡埋。\n",
      "山間楓葉漸層染，\n",
      "一抹朱紅，點綴著蒼白。\n",
      "\n",
      "林間落葉舞翩遷，\n",
      "腳下踩過，細語碎綿綿。\n",
      "籬邊菊花開正好，\n",
      "淡淡幽香，飄入小窗前。\n",
      "\n",
      "田野金黃稻浪翻，\n",
      "顆顆飽滿，是歲月恩典。\n",
      "枝頭柿子紅如火，\n",
      "農家喜樂，豐收在眼前。\n",
      "\n",
      "高天流雲，淡然亦悠遠，\n",
      "斜陽脈脈，把光影裁剪。\n",
      "秋色漸濃，心境亦沉澱，\n",
      "歲月流轉，感悟在人間。\n"
     ]
    }
   ],
   "source": [
    "from dotenv import load_dotenv\n",
    "from langchain_google_genai import ChatGoogleGenerativeAI\n",
    "\n",
    "# Load environment variables from .env\n",
    "load_dotenv()\n",
    "\n",
    "# Create a ChatGoogleGenerativeAI model\n",
    "model = ChatGoogleGenerativeAI(model=\"gemini-2.5-flash\",temperature=1)\n",
    "print(type(model))\n",
    "\n",
    "#Invoke the model with a message\n",
    "result = model.invoke(\"請用中文寫一首關於秋天的詩\")\n",
    "print(type(result))\n",
    "print(\"所有答案\")\n",
    "#json_data = result.to_json()\n",
    "#print(json_data[\"kwargs\"][\"content\"])\n",
    "print(\"回答內容是\")\n",
    "print(result.content)"
   ]
  }
 ],
 "metadata": {
  "kernelspec": {
   "display_name": ".venv",
   "language": "python",
   "name": "python3"
  },
  "language_info": {
   "codemirror_mode": {
    "name": "ipython",
    "version": 3
   },
   "file_extension": ".py",
   "mimetype": "text/x-python",
   "name": "python",
   "nbconvert_exporter": "python",
   "pygments_lexer": "ipython3",
   "version": "3.10.18"
  }
 },
 "nbformat": 4,
 "nbformat_minor": 5
}
