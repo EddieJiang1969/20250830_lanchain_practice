{
 "cells": [
  {
   "cell_type": "markdown",
   "id": "bb9e17e2",
   "metadata": {},
   "source": [
    "#### 使用ollama"
   ]
  },
  {
   "cell_type": "code",
   "execution_count": null,
   "id": "d65111ab",
   "metadata": {},
   "outputs": [],
   "source": []
  },
  {
   "cell_type": "code",
   "execution_count": 3,
   "id": "14ef2f69",
   "metadata": {},
   "outputs": [
    {
     "name": "stdout",
     "output_type": "stream",
     "text": [
      "<class 'langchain_core.messages.ai.AIMessage'>\n",
      "所有答案\n",
      "content='81 除以 9 的结果是 9。' additional_kwargs={} response_metadata={'model': 'llama3.2:latest', 'created_at': '2025-09-20T07:02:01.3989629Z', 'done': True, 'done_reason': 'stop', 'total_duration': 31214297700, 'load_duration': 14001043800, 'prompt_eval_count': 33, 'prompt_eval_duration': 9792742800, 'eval_count': 13, 'eval_duration': 4674580800, 'model_name': 'llama3.2:latest'} id='run--5a05d7d8-354b-4eeb-ac15-0cc1e77e0dda-0' usage_metadata={'input_tokens': 33, 'output_tokens': 13, 'total_tokens': 46}\n",
      "回答內容是\n",
      "81 除以 9 的结果是 9。\n"
     ]
    }
   ],
   "source": [
    "from langchain_ollama import ChatOllama\n",
    "\n",
    "\n",
    "# Create a ChatOllama model\n",
    "# 透過網址的方式連結ollama (指定 base_url 指向 Ollama server)\n",
    "# 預設 Ollama server 在本機的 11434 埠，若在其他主機或埠請改成相對應的網址\n",
    "\n",
    "#model = ChatOllama(model=\"llama3.2:latest\", base_url=\"http://host.docker.internal:11434\")\n",
    "model = ChatOllama(model=\"llama3.2:latest\",base_url=\"http://localhost:11434\")\n",
    "\n",
    "\n",
    "# Invoke the model with a message\n",
    "result = model.invoke(\"81除以9的答案是?\")\n",
    "print(type(result))\n",
    "print(\"所有答案\")\n",
    "print(result)\n",
    "print(\"回答內容是\")\n",
    "print(result.content)"
   ]
  },
  {
   "cell_type": "code",
   "execution_count": 10,
   "id": "80eccdec",
   "metadata": {},
   "outputs": [
    {
     "name": "stdout",
     "output_type": "stream",
     "text": [
      "<class 'langchain_core.messages.ai.AIMessage'>\n",
      "所有答案\n",
      "content='天空之所以是藍色的，主要是因為一種叫做**「瑞利散射」 (Rayleigh Scattering)** 的物理現象。\\n\\n以下是詳細的解釋：\\n\\n1.  **太陽光由多種顏色組成：** 太陽光看起來是白色的，但它實際上是由各種不同顏色的光組成的，就像彩虹一樣，從紅、橙、黃、綠、藍、靛、紫。這些不同顏色的光有不同的波長，其中紅光的波長最長，藍光和紫光的波長最短。\\n\\n2.  **地球的大氣層：** 當太陽光穿過地球的大氣層時，會遇到大氣中的氣體分子（主要是氮氣和氧氣）以及微小的塵埃粒子。\\n\\n3.  **光的散射：** 這些氣體分子的大小比光的波長小很多。當光線撞擊到這些小分子時，光會被「散射」開來，也就是說，光線會改變方向並向四面八方傳播。\\n\\n4.  **瑞利散射的關鍵：** 瑞利散射指出，波長較短的光（如藍光和紫光）比波長較長的光（如紅光和黃光）更容易被這些小分子散射開來。具體來說，散射的強度與波長四次方成反比，這意味著藍光比紅光散射的效率高出很多倍。\\n\\n5.  **我們看到藍天：**\\n    *   當太陽光進入大氣層時，大量的藍光和紫光被大氣中的氣體分子散射到四面八方。\\n    *   這些散射開來的藍光從天空的各個方向進入我們的眼睛，所以我們看到的天空就呈現出藍色。\\n    *   **為什麼不是紫色？** 雖然紫光的波長比藍光更短，散射得更多，但有兩個原因導致我們看到的是藍色而非紫色：\\n        *   太陽光中紫光的成分本身就相對較少。\\n        *   我們人類的眼睛對藍光比對紫光更敏感。\\n\\n6.  **日出日落的紅色天空：** 這個原理也可以解釋為什麼日出或日落時天空會變紅。在日出或日落時，太陽光需要穿過更厚的大氣層。這時候，大部分的藍光和紫光在到達我們眼睛之前，就已經被散射掉了。只有波長較長的紅光和黃光，因為散射較少，能夠穿透大氣層直接到達我們的眼睛，所以我們看到太陽和天空呈現紅色或橙色。\\n\\n總之，天空之所以是藍色的，就是因為大氣中的氣體分子對太陽光中的藍光進行了**優先散射**，將藍光散播到我們眼睛所能看到的天空各處。' additional_kwargs={} response_metadata={'prompt_feedback': {'block_reason': 0, 'safety_ratings': []}, 'finish_reason': 'STOP', 'model_name': 'gemini-2.5-flash', 'safety_ratings': []} id='run--2cb65d4f-50ab-4aae-9b93-394433fd0d7e-0' usage_metadata={'input_tokens': 7, 'output_tokens': 1909, 'total_tokens': 1916, 'input_token_details': {'cache_read': 0}, 'output_token_details': {'reasoning': 1301}}\n",
      "回答內容是\n",
      "天空之所以是藍色的，主要是因為一種叫做**「瑞利散射」 (Rayleigh Scattering)** 的物理現象。\n",
      "\n",
      "以下是詳細的解釋：\n",
      "\n",
      "1.  **太陽光由多種顏色組成：** 太陽光看起來是白色的，但它實際上是由各種不同顏色的光組成的，就像彩虹一樣，從紅、橙、黃、綠、藍、靛、紫。這些不同顏色的光有不同的波長，其中紅光的波長最長，藍光和紫光的波長最短。\n",
      "\n",
      "2.  **地球的大氣層：** 當太陽光穿過地球的大氣層時，會遇到大氣中的氣體分子（主要是氮氣和氧氣）以及微小的塵埃粒子。\n",
      "\n",
      "3.  **光的散射：** 這些氣體分子的大小比光的波長小很多。當光線撞擊到這些小分子時，光會被「散射」開來，也就是說，光線會改變方向並向四面八方傳播。\n",
      "\n",
      "4.  **瑞利散射的關鍵：** 瑞利散射指出，波長較短的光（如藍光和紫光）比波長較長的光（如紅光和黃光）更容易被這些小分子散射開來。具體來說，散射的強度與波長四次方成反比，這意味著藍光比紅光散射的效率高出很多倍。\n",
      "\n",
      "5.  **我們看到藍天：**\n",
      "    *   當太陽光進入大氣層時，大量的藍光和紫光被大氣中的氣體分子散射到四面八方。\n",
      "    *   這些散射開來的藍光從天空的各個方向進入我們的眼睛，所以我們看到的天空就呈現出藍色。\n",
      "    *   **為什麼不是紫色？** 雖然紫光的波長比藍光更短，散射得更多，但有兩個原因導致我們看到的是藍色而非紫色：\n",
      "        *   太陽光中紫光的成分本身就相對較少。\n",
      "        *   我們人類的眼睛對藍光比對紫光更敏感。\n",
      "\n",
      "6.  **日出日落的紅色天空：** 這個原理也可以解釋為什麼日出或日落時天空會變紅。在日出或日落時，太陽光需要穿過更厚的大氣層。這時候，大部分的藍光和紫光在到達我們眼睛之前，就已經被散射掉了。只有波長較長的紅光和黃光，因為散射較少，能夠穿透大氣層直接到達我們的眼睛，所以我們看到太陽和天空呈現紅色或橙色。\n",
      "\n",
      "總之，天空之所以是藍色的，就是因為大氣中的氣體分子對太陽光中的藍光進行了**優先散射**，將藍光散播到我們眼睛所能看到的天空各處。\n"
     ]
    }
   ],
   "source": [
    "from dotenv import load_dotenv\n",
    "from langchain_google_genai import ChatGoogleGenerativeAI\n",
    "\n",
    "# Load environment variables from .env\n",
    "load_dotenv()\n",
    "\n",
    "# Create a ChatGoogleGenerativeAI model\n",
    "model = ChatGoogleGenerativeAI(model=\"gemini-2.5-flash\")\n",
    "\n",
    "#Invoke the model with a message\n",
    "result = model.invoke(\"天空為什麼是藍的?\")\n",
    "print(type(result))\n",
    "print(\"所有答案\")\n",
    "print(result)\n",
    "print(\"回答內容是\")\n",
    "print(result.content)"
   ]
  }
 ],
 "metadata": {
  "kernelspec": {
   "display_name": ".venv",
   "language": "python",
   "name": "python3"
  },
  "language_info": {
   "codemirror_mode": {
    "name": "ipython",
    "version": 3
   },
   "file_extension": ".py",
   "mimetype": "text/x-python",
   "name": "python",
   "nbconvert_exporter": "python",
   "pygments_lexer": "ipython3",
   "version": "3.10.18"
  }
 },
 "nbformat": 4,
 "nbformat_minor": 5
}
