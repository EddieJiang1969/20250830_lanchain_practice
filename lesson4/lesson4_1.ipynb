{
 "cells": [
  {
   "cell_type": "markdown",
   "id": "bb9e17e2",
   "metadata": {},
   "source": [
    "#第四行課 lesson4"
   ]
  }
 ],
 "metadata": {
  "language_info": {
   "name": "python"
  }
 },
 "nbformat": 4,
 "nbformat_minor": 5
}
