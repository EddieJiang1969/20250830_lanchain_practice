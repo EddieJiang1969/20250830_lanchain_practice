{
 "cells": [
  {
   "cell_type": "code",
   "execution_count": 1,
   "id": "3bef1bdb",
   "metadata": {},
   "outputs": [
    {
     "name": "stdout",
     "output_type": "stream",
     "text": [
      "=== Ollama 模型設定完成 ===\n",
      "使用模型: gemma3:270m\n",
      "模型類型: <class 'langchain_ollama.llms.OllamaLLM'>\n"
     ]
    }
   ],
   "source": [
    "from langchain_ollama import OllamaLLM\n",
    "\n",
    "model = OllamaLLM(model=\"gemma3:270m\")\n",
    "print(\"=== Ollama 模型設定完成 ===\")\n",
    "print(f\"使用模型: gemma3:270m\")\n",
    "print(f\"模型類型: {type(model)}\")\n"
   ]
  },
  {
   "cell_type": "code",
   "execution_count": 2,
   "id": "e3f3f131",
   "metadata": {},
   "outputs": [
    {
     "name": "stdout",
     "output_type": "stream",
     "text": [
      "=== 基本 Prompt Template 範例 ===\n",
      "\n",
      "你是一位專業的繁體中文翻譯家，具有豐富的語言學背景。\n",
      "請將使用者提供的以下英文句子翻譯成流暢、自然的繁體中文。\n",
      "\n",
      "英文句子：Despite the initial skepticism from the board, the engineering team persevered with their unconventional approach, which ultimately proved to be the breakthrough the company desperately needed.\n",
      "繁體中文翻譯：\n",
      "\n",
      "\n",
      "==================================================\n",
      "Ollama gemma3:1b模型回應:\n",
      "以下是幾個不同風格的翻譯選項，各有側重，你可以根據你的需要選擇：\n",
      "\n",
      "**選項一 (較正式，注重語氣)：**\n",
      "\n",
      "「最初的董事會對這個方案持懷疑態度，但工程團隊卻不屈不撓地堅持著他們的非傳統方法，最終卻展現出公司 desperately 尋求的關鍵突破。」\n",
      "\n",
      "**選項二 (較自然，強調進展)：**\n",
      "\n",
      "「董事會最初有些疑慮，但工程團隊仍然堅持著他們的獨特方式，最後的結果卻是公司 desperately 需要的突破點。」\n",
      "\n",
      "**選項三 (更簡潔，突出重點)：**\n",
      "\n",
      "「董事會初期有些質疑，但工程團隊堅持著他們的特殊做法，最終成功了，讓公司 desperately 需要。」\n",
      "\n",
      "**選項四 (更口語化，適合更正式的場合)：**\n",
      "\n",
      "「董事會最初有點擔心，但工程團隊還是堅持著他們的特別方式，結果呢，這真的讓公司 desperately 需要的突破。」\n",
      "\n",
      "**選取哪個版本？**\n",
      "\n",
      "*   **選項一** 最適合正式的文案，需要更正式的語氣。\n",
      "*   **選項二** 比較自然，適合一般情況。\n",
      "*   **選項三** 簡潔易懂，適合對話或簡報。\n",
      "*   **選項四** 適合溝通的場合，更親切。\n",
      "\n",
      "希望以上翻譯能幫到你!  你可以根據你的語境選擇最合適的翻譯。\n",
      "\n"
     ]
    }
   ],
   "source": [
    "# 1. 基本 Prompt Template 使用\n",
    "from langchain.prompts import PromptTemplate\n",
    "from langchain_ollama import OllamaLLM\n",
    "\n",
    "model = OllamaLLM(model=\"gemma3:1b\")\n",
    "\n",
    "# 建立翻譯模板\n",
    "template_text = \"\"\"\n",
    "你是一位專業的繁體中文翻譯家，具有豐富的語言學背景。\n",
    "請將使用者提供的以下英文句子翻譯成流暢、自然的繁體中文。\n",
    "\n",
    "英文句子：{english_sentence}\n",
    "繁體中文翻譯：\n",
    "\"\"\"\n",
    "\n",
    "# 建立 Prompt Template\n",
    "prompt_template = PromptTemplate(\n",
    "    template=template_text,\n",
    "    input_variables=[\"english_sentence\"]\n",
    "    \n",
    ")\n",
    "\n",
    "# 使用模板\n",
    "formatted_prompt = prompt_template.format(english_sentence=\"Despite the initial skepticism from the board, the engineering team persevered with their unconventional approach, which ultimately proved to be the breakthrough the company desperately needed.\")\n",
    "print(\"=== 基本 Prompt Template 範例 ===\")\n",
    "print(formatted_prompt)\n",
    "print(\"\\n\" + \"=\"*50)\n",
    "print(\"Ollama gemma3:1b模型回應:\")\n",
    "\n",
    "response = model.invoke(formatted_prompt)\n",
    "print(response)"
   ]
  },
  {
   "cell_type": "code",
   "execution_count": null,
   "id": "97ba5cec",
   "metadata": {},
   "outputs": [],
   "source": []
  },
  {
   "cell_type": "code",
   "execution_count": 4,
   "id": "d76cdeb0",
   "metadata": {},
   "outputs": [
    {
     "name": "stdout",
     "output_type": "stream",
     "text": [
      "=== 多變數複雜模板範例 ===\n",
      "Human: \n",
      "你是一位專業的繁體中文翻譯家，專精於商業領域。\n",
      "請將以下英文文本翻譯成繁體中文，並確保：\n",
      "1. 保持原文的語氣和風格\n",
      "2. 使用專業術語\n",
      "3. 符合繁體中文的語言習慣\n",
      "\n",
      "英文文本：The quarterly revenue increased by 15% compared to last year.\n",
      "繁體中文翻譯：\n",
      "\n",
      "\n",
      "==================================================\n",
      "Ollama gemma:1b模型回應:\n",
      "以下是翻譯後的繁體中文版本，盡可能保持原文的語氣和風格，並使用專業術語：\n",
      "\n",
      "**翻譯：**\n",
      "\n",
      "本季度營收增長率與去年同期相比，較高達15%。\n",
      "\n",
      "**說明與進一步的解釋：**\n",
      "\n",
      "* **本季度 (běn qī):**  “本” 是“本”的縮寫，用來表示“本季度”，更為正式，更符合商業用語的習慣。\n",
      "* **營收 (yínggōng):**  “營收” 是“營收”的縮寫，更為常用。\n",
      "* **增長率 (zēngzhǎng lǜ):**  “增長”是“增長”的縮寫，更為常用的表達方式，避免多餘的“增”字。\n",
      "* **與去年同期相比 (yǔ qù lìnián qīnxì jiēxiē):**  “與”是“與”的縮寫，用來表示“與去年同期”，更為正式的表達方式。\n",
      "* **較高達 (jiāng gāo dà):** 使用“較高達”更符合商業語境，表示「較高的」。\n",
      "\n",
      "**總體而言，這份翻譯在語言風格和專業性上，更符合商業翻譯的要求。**\n",
      "\n",
      "希望這個翻譯能夠滿足您的需求。如果您有其他翻譯需求，請隨時告知。\n"
     ]
    }
   ],
   "source": [
    "from langchain_ollama import OllamaLLM\n",
    "from langchain.prompts import ChatPromptTemplate\n",
    "\n",
    "model = OllamaLLM(model=\"gemma3:1b\")\n",
    "\n",
    "\n",
    "\n",
    "# 建立多變數的翻譯模板\n",
    "complex_template = \"\"\"\n",
    "你是一位專業的{target_language}翻譯家，專精於{domain}領域。\n",
    "請將以下{source_language}文本翻譯成{target_language}，並確保：\n",
    "1. 保持原文的語氣和風格\n",
    "2. 使用專業術語\n",
    "3. 符合{target_language}的語言習慣\n",
    "\n",
    "{source_language}文本：{text}\n",
    "{target_language}翻譯：\n",
    "\"\"\"\n",
    "\n",
    "chat_prompt_template = ChatPromptTemplate.from_template(complex_template)\n",
    "\n",
    "formatted_prompt = chat_prompt_template.format(\n",
    "    target_language=\"繁體中文\",\n",
    "    source_language=\"英文\",\n",
    "    domain=\"商業\",\n",
    "    text=\"The quarterly revenue increased by 15% compared to last year.\"\n",
    "    )\n",
    "\n",
    "print(\"=== 多變數複雜模板範例 ===\")\n",
    "print(formatted_prompt)\n",
    "print(\"\\n\" + \"=\"*50)\n",
    "print(\"Ollama gemma:1b模型回應:\")\n",
    "\n",
    "response = model.invoke(formatted_prompt)\n",
    "print(response)"
   ]
  },
  {
   "cell_type": "code",
   "execution_count": null,
   "id": "0a7bcf61",
   "metadata": {},
   "outputs": [],
   "source": []
  }
 ],
 "metadata": {
  "kernelspec": {
   "display_name": ".venv",
   "language": "python",
   "name": "python3"
  },
  "language_info": {
   "codemirror_mode": {
    "name": "ipython",
    "version": 3
   },
   "file_extension": ".py",
   "mimetype": "text/x-python",
   "name": "python",
   "nbconvert_exporter": "python",
   "pygments_lexer": "ipython3",
   "version": "3.10.18"
  }
 },
 "nbformat": 4,
 "nbformat_minor": 5
}
