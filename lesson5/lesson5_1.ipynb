{
 "cells": [
  {
   "cell_type": "code",
   "execution_count": 1,
   "id": "37d810c4",
   "metadata": {},
   "outputs": [
    {
     "name": "stderr",
     "output_type": "stream",
     "text": [
      "c:\\Personal\\GitHub\\20250830_lanchain_practice\\.venv\\lib\\site-packages\\tqdm\\auto.py:21: TqdmWarning: IProgress not found. Please update jupyter and ipywidgets. See https://ipywidgets.readthedocs.io/en/stable/user_install.html\n",
      "  from .autonotebook import tqdm as notebook_tqdm\n"
     ]
    },
    {
     "name": "stdout",
     "output_type": "stream",
     "text": [
      "* Running on local URL:  http://127.0.0.1:7860\n",
      "* To create a public link, set `share=True` in `launch()`.\n"
     ]
    },
    {
     "data": {
      "text/html": [
       "<div><iframe src=\"http://127.0.0.1:7860/\" width=\"100%\" height=\"500\" allow=\"autoplay; camera; microphone; clipboard-read; clipboard-write;\" frameborder=\"0\" allowfullscreen></iframe></div>"
      ],
      "text/plain": [
       "<IPython.core.display.HTML object>"
      ]
     },
     "metadata": {},
     "output_type": "display_data"
    },
    {
     "name": "stdout",
     "output_type": "stream",
     "text": [
      "Keyboard interruption in main thread... closing server.\n"
     ]
    }
   ],
   "source": [
    "import gradio as gr\n",
    "import warnings\n",
    "\n",
    "# 忽略 tqdm 警告\n",
    "warnings.filterwarnings(\"ignore\", category=UserWarning, module=\"tqdm\")\n",
    "\n",
    "def greet(name, intensity):\n",
    "    \"\"\"\n",
    "    生成個性化問候語\n",
    "    \n",
    "    Args:\n",
    "        name (str): 使用者姓名\n",
    "        intensity (int): 感嘆號的數量 (1-10)\n",
    "    \n",
    "    Returns:\n",
    "        str: 個性化問候語\n",
    "    \"\"\"\n",
    "    if not name.strip():\n",
    "        return \"請輸入您的姓名！\"\n",
    "    \n",
    "    try:\n",
    "        intensity = int(intensity)\n",
    "        if intensity < 1 or intensity > 10:\n",
    "            return \"強度必須在 1-10 之間！\"\n",
    "        \n",
    "        return \"Hello, \" + name + \"!\" * intensity\n",
    "    except (ValueError, TypeError):\n",
    "        return \"請輸入有效的數值！\"\n",
    "\n",
    "# 創建 Gradio 介面\n",
    "demo = gr.Interface(\n",
    "    fn=greet,\n",
    "    inputs=[\n",
    "        gr.Textbox(label=\"姓名\", placeholder=\"請輸入您的姓名\"),\n",
    "        gr.Slider(minimum=1, maximum=10, value=1, step=1, label=\"強度\")\n",
    "    ],\n",
    "    outputs=[gr.Textbox(label=\"問候語\")],\n",
    "    title=\"問候語生成器\",\n",
    "    description=\"輸入您的姓名和強度，生成個性化的問候語！\",\n",
    "    examples=[[\"小明\", 3], [\"小華\", 5], [\"小美\", 2]]\n",
    ")\n",
    "\n",
    "# 啟動應用程式\n",
    "if __name__ == \"__main__\":\n",
    "    demo.launch(share=False, debug=True)"
   ]
  },
  {
   "cell_type": "code",
   "execution_count": null,
   "id": "83c6ad09",
   "metadata": {},
   "outputs": [],
   "source": [
    "# 測試函數功能\n",
    "print(\"=== 測試 greet 函數 ===\")\n",
    "\n",
    "# 測試正常情況\n",
    "print(\"1. 正常測試:\")\n",
    "print(f\"   greet('小明', 3) = {greet('小明', 3)}\")\n",
    "\n",
    "# 測試邊界情況\n",
    "print(\"\\n2. 邊界測試:\")\n",
    "print(f\"   greet('', 5) = {greet('', 5)}\")\n",
    "print(f\"   greet('小華', 0) = {greet('小華', 0)}\")\n",
    "print(f\"   greet('小美', 11) = {greet('小美', 11)}\")\n",
    "\n",
    "# 測試錯誤處理\n",
    "print(\"\\n3. 錯誤處理測試:\")\n",
    "print(f\"   greet('小李', 'abc') = {greet('小李', 'abc')}\")\n",
    "print(f\"   greet('小王', None) = {greet('小王', None)}\")\n",
    "\n",
    "print(\"\\n=== 測試完成 ===\")\n"
   ]
  }
 ],
 "metadata": {
  "kernelspec": {
   "display_name": ".venv",
   "language": "python",
   "name": "python3"
  },
  "language_info": {
   "codemirror_mode": {
    "name": "ipython",
    "version": 3
   },
   "file_extension": ".py",
   "mimetype": "text/x-python",
   "name": "python",
   "nbconvert_exporter": "python",
   "pygments_lexer": "ipython3",
   "version": "3.10.18"
  }
 },
 "nbformat": 4,
 "nbformat_minor": 5
}
